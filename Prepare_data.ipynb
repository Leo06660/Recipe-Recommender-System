{
 "cells": [
  {
   "cell_type": "code",
   "execution_count": 2,
   "metadata": {},
   "outputs": [],
   "source": [
    "from pyomo.environ import *\n",
    "import pandas as pd\n",
    "import numpy as np\n",
    "import matplotlib as mpl\n",
    "import matplotlib.pyplot as plt\n",
    "# from soft_impute import SoftImpute\n",
    "from collections import OrderedDict"
   ]
  },
  {
   "cell_type": "markdown",
   "metadata": {},
   "source": [
    "### Prepare data"
   ]
  },
  {
   "cell_type": "markdown",
   "metadata": {},
   "source": [
    "#### 0. Read whole data"
   ]
  },
  {
   "cell_type": "code",
   "execution_count": 6,
   "metadata": {},
   "outputs": [
    {
     "data": {
      "text/html": [
       "<div>\n",
       "<style scoped>\n",
       "    .dataframe tbody tr th:only-of-type {\n",
       "        vertical-align: middle;\n",
       "    }\n",
       "\n",
       "    .dataframe tbody tr th {\n",
       "        vertical-align: top;\n",
       "    }\n",
       "\n",
       "    .dataframe thead th {\n",
       "        text-align: right;\n",
       "    }\n",
       "</style>\n",
       "<table border=\"1\" class=\"dataframe\">\n",
       "  <thead>\n",
       "    <tr style=\"text-align: right;\">\n",
       "      <th></th>\n",
       "      <th>page_url</th>\n",
       "      <th>title</th>\n",
       "      <th>total_time</th>\n",
       "      <th>rating</th>\n",
       "      <th>personal_rating</th>\n",
       "      <th>ingred</th>\n",
       "      <th>nutrition</th>\n",
       "    </tr>\n",
       "  </thead>\n",
       "  <tbody>\n",
       "    <tr>\n",
       "      <th>1284</th>\n",
       "      <td>https://www.food.com/recipe/gingerbread-for-co...</td>\n",
       "      <td>GINGERBREAD (FOR COOKIES OR A GINGERBREAD HOUSE)</td>\n",
       "      <td>0</td>\n",
       "      <td>4.57</td>\n",
       "      <td>{'Elielia': 5.0, 'iceitup': 5.0, 'Lavender Lyn...</td>\n",
       "      <td>[baking soda, clove, margarine, egg, molasses,...</td>\n",
       "      <td>{'Calories': 938.0, 'Fat': 28.0, 'Cholesterol'...</td>\n",
       "    </tr>\n",
       "    <tr>\n",
       "      <th>1285</th>\n",
       "      <td>https://www.food.com/recipe/yeast-free-bread-6...</td>\n",
       "      <td>YEAST FREE BREAD</td>\n",
       "      <td>0</td>\n",
       "      <td>4.17</td>\n",
       "      <td>{'pscheller': 4.0, 'allergymomma': 5.0, 'SMH40...</td>\n",
       "      <td>[water, salt, whole wheat flour, baking powder]</td>\n",
       "      <td>{'Calories': 16957.0, 'Fat': 602.0, 'Cholester...</td>\n",
       "    </tr>\n",
       "    <tr>\n",
       "      <th>1286</th>\n",
       "      <td>https://www.food.com/recipe/super-easy-naan-br...</td>\n",
       "      <td>SUPER EASY NAAN BREAD</td>\n",
       "      <td>55</td>\n",
       "      <td>4.44</td>\n",
       "      <td>{'crimsonfae': 5.0, 'Luke M.': 4.0, 'Bay Haven...</td>\n",
       "      <td>[flour, active dry yeast, warm water, salt, su...</td>\n",
       "      <td>{'Calories': 180.0, 'Fat': 5.0, 'Cholesterol':...</td>\n",
       "    </tr>\n",
       "    <tr>\n",
       "      <th>1287</th>\n",
       "      <td>https://www.food.com/recipe/pesto-49909?ftab=r...</td>\n",
       "      <td>PESTO</td>\n",
       "      <td>10</td>\n",
       "      <td>4.88</td>\n",
       "      <td>{'Bergy': 5.0, 'kuboti1': 5.0, 'Diana Adcock':...</td>\n",
       "      <td>[garlic, olive oil, parmesan cheese, basil, pi...</td>\n",
       "      <td>{'Calories': 1376.0, 'Fat': 108.0, 'Cholestero...</td>\n",
       "    </tr>\n",
       "    <tr>\n",
       "      <th>1288</th>\n",
       "      <td>https://www.food.com/recipe/softest-ever-bread...</td>\n",
       "      <td>SOFTEST EVER BREAD MACHINE BREAD</td>\n",
       "      <td>10</td>\n",
       "      <td>4.83</td>\n",
       "      <td>{'DanielleLyn': 5.0, 'SubeeJones': 5.0, 'Princ...</td>\n",
       "      <td>[bread flour, white sugar, warm water, salt, b...</td>\n",
       "      <td>{'Calories': 19673.0, 'Fat': 587.0, 'Cholester...</td>\n",
       "    </tr>\n",
       "  </tbody>\n",
       "</table>\n",
       "</div>"
      ],
      "text/plain": [
       "                                               page_url  \\\n",
       "1284  https://www.food.com/recipe/gingerbread-for-co...   \n",
       "1285  https://www.food.com/recipe/yeast-free-bread-6...   \n",
       "1286  https://www.food.com/recipe/super-easy-naan-br...   \n",
       "1287  https://www.food.com/recipe/pesto-49909?ftab=r...   \n",
       "1288  https://www.food.com/recipe/softest-ever-bread...   \n",
       "\n",
       "                                                 title  total_time  rating  \\\n",
       "1284  GINGERBREAD (FOR COOKIES OR A GINGERBREAD HOUSE)           0    4.57   \n",
       "1285                                  YEAST FREE BREAD           0    4.17   \n",
       "1286                             SUPER EASY NAAN BREAD          55    4.44   \n",
       "1287                                             PESTO          10    4.88   \n",
       "1288                  SOFTEST EVER BREAD MACHINE BREAD          10    4.83   \n",
       "\n",
       "                                        personal_rating  \\\n",
       "1284  {'Elielia': 5.0, 'iceitup': 5.0, 'Lavender Lyn...   \n",
       "1285  {'pscheller': 4.0, 'allergymomma': 5.0, 'SMH40...   \n",
       "1286  {'crimsonfae': 5.0, 'Luke M.': 4.0, 'Bay Haven...   \n",
       "1287  {'Bergy': 5.0, 'kuboti1': 5.0, 'Diana Adcock':...   \n",
       "1288  {'DanielleLyn': 5.0, 'SubeeJones': 5.0, 'Princ...   \n",
       "\n",
       "                                                 ingred  \\\n",
       "1284  [baking soda, clove, margarine, egg, molasses,...   \n",
       "1285    [water, salt, whole wheat flour, baking powder]   \n",
       "1286  [flour, active dry yeast, warm water, salt, su...   \n",
       "1287  [garlic, olive oil, parmesan cheese, basil, pi...   \n",
       "1288  [bread flour, white sugar, warm water, salt, b...   \n",
       "\n",
       "                                              nutrition  \n",
       "1284  {'Calories': 938.0, 'Fat': 28.0, 'Cholesterol'...  \n",
       "1285  {'Calories': 16957.0, 'Fat': 602.0, 'Cholester...  \n",
       "1286  {'Calories': 180.0, 'Fat': 5.0, 'Cholesterol':...  \n",
       "1287  {'Calories': 1376.0, 'Fat': 108.0, 'Cholestero...  \n",
       "1288  {'Calories': 19673.0, 'Fat': 587.0, 'Cholester...  "
      ]
     },
     "execution_count": 6,
     "metadata": {},
     "output_type": "execute_result"
    }
   ],
   "source": [
    "data = pd.read_json('ALL_recipes_data.json')\n",
    "data.tail()"
   ]
  },
  {
   "cell_type": "code",
   "execution_count": 7,
   "metadata": {},
   "outputs": [
    {
     "data": {
      "text/plain": [
       "page_url           False\n",
       "title              False\n",
       "total_time         False\n",
       "rating             False\n",
       "personal_rating    False\n",
       "ingred             False\n",
       "nutrition          False\n",
       "dtype: bool"
      ]
     },
     "execution_count": 7,
     "metadata": {},
     "output_type": "execute_result"
    }
   ],
   "source": [
    "data.isnull().any()"
   ]
  },
  {
   "cell_type": "code",
   "execution_count": 8,
   "metadata": {},
   "outputs": [
    {
     "ename": "TypeError",
     "evalue": "unhashable type: 'dict'",
     "output_type": "error",
     "traceback": [
      "\u001b[0;31m---------------------------------------------------------------------------\u001b[0m",
      "\u001b[0;31mTypeError\u001b[0m                                 Traceback (most recent call last)",
      "\u001b[0;32mpandas/_libs/hashtable_class_helper.pxi\u001b[0m in \u001b[0;36mpandas._libs.hashtable.PyObjectHashTable.map_locations\u001b[0;34m()\u001b[0m\n",
      "\u001b[0;31mTypeError\u001b[0m: unhashable type: 'dict'"
     ]
    },
    {
     "name": "stderr",
     "output_type": "stream",
     "text": [
      "Exception ignored in: 'pandas._libs.index.IndexEngine._call_map_locations'\n",
      "Traceback (most recent call last):\n",
      "  File \"pandas/_libs/hashtable_class_helper.pxi\", line 1648, in pandas._libs.hashtable.PyObjectHashTable.map_locations\n",
      "TypeError: unhashable type: 'dict'\n"
     ]
    },
    {
     "ename": "TypeError",
     "evalue": "unhashable type: 'list'",
     "output_type": "error",
     "traceback": [
      "\u001b[0;31m---------------------------------------------------------------------------\u001b[0m",
      "\u001b[0;31mTypeError\u001b[0m                                 Traceback (most recent call last)",
      "\u001b[0;32mpandas/_libs/hashtable_class_helper.pxi\u001b[0m in \u001b[0;36mpandas._libs.hashtable.PyObjectHashTable.map_locations\u001b[0;34m()\u001b[0m\n",
      "\u001b[0;31mTypeError\u001b[0m: unhashable type: 'list'"
     ]
    },
    {
     "name": "stderr",
     "output_type": "stream",
     "text": [
      "Exception ignored in: 'pandas._libs.index.IndexEngine._call_map_locations'\n",
      "Traceback (most recent call last):\n",
      "  File \"pandas/_libs/hashtable_class_helper.pxi\", line 1648, in pandas._libs.hashtable.PyObjectHashTable.map_locations\n",
      "TypeError: unhashable type: 'list'\n"
     ]
    },
    {
     "ename": "TypeError",
     "evalue": "unhashable type: 'dict'",
     "output_type": "error",
     "traceback": [
      "\u001b[0;31m---------------------------------------------------------------------------\u001b[0m",
      "\u001b[0;31mTypeError\u001b[0m                                 Traceback (most recent call last)",
      "\u001b[0;32mpandas/_libs/hashtable_class_helper.pxi\u001b[0m in \u001b[0;36mpandas._libs.hashtable.PyObjectHashTable.map_locations\u001b[0;34m()\u001b[0m\n",
      "\u001b[0;31mTypeError\u001b[0m: unhashable type: 'dict'"
     ]
    },
    {
     "name": "stderr",
     "output_type": "stream",
     "text": [
      "Exception ignored in: 'pandas._libs.index.IndexEngine._call_map_locations'\n",
      "Traceback (most recent call last):\n",
      "  File \"pandas/_libs/hashtable_class_helper.pxi\", line 1648, in pandas._libs.hashtable.PyObjectHashTable.map_locations\n",
      "TypeError: unhashable type: 'dict'\n"
     ]
    },
    {
     "data": {
      "text/html": [
       "<div>\n",
       "<style scoped>\n",
       "    .dataframe tbody tr th:only-of-type {\n",
       "        vertical-align: middle;\n",
       "    }\n",
       "\n",
       "    .dataframe tbody tr th {\n",
       "        vertical-align: top;\n",
       "    }\n",
       "\n",
       "    .dataframe thead th {\n",
       "        text-align: right;\n",
       "    }\n",
       "</style>\n",
       "<table border=\"1\" class=\"dataframe\">\n",
       "  <thead>\n",
       "    <tr style=\"text-align: right;\">\n",
       "      <th></th>\n",
       "      <th>page_url</th>\n",
       "      <th>title</th>\n",
       "      <th>total_time</th>\n",
       "      <th>rating</th>\n",
       "      <th>personal_rating</th>\n",
       "      <th>ingred</th>\n",
       "      <th>nutrition</th>\n",
       "    </tr>\n",
       "  </thead>\n",
       "  <tbody>\n",
       "    <tr>\n",
       "      <th>count</th>\n",
       "      <td>1289</td>\n",
       "      <td>1289</td>\n",
       "      <td>1289.000000</td>\n",
       "      <td>1289.000000</td>\n",
       "      <td>1289</td>\n",
       "      <td>1289</td>\n",
       "      <td>1289</td>\n",
       "    </tr>\n",
       "    <tr>\n",
       "      <th>unique</th>\n",
       "      <td>1289</td>\n",
       "      <td>1289</td>\n",
       "      <td>NaN</td>\n",
       "      <td>NaN</td>\n",
       "      <td>1289</td>\n",
       "      <td>1287</td>\n",
       "      <td>1288</td>\n",
       "    </tr>\n",
       "    <tr>\n",
       "      <th>top</th>\n",
       "      <td>https://www.food.com/recipe/pork-steak-42905?f...</td>\n",
       "      <td>ZIPPITY DOOO DAAAA ORZO SALAD!</td>\n",
       "      <td>NaN</td>\n",
       "      <td>NaN</td>\n",
       "      <td>{'SlipC': 5.0, 'Devon S': 5.0, 'Maeven6': 5.0,...</td>\n",
       "      <td>[barbecue sauce]</td>\n",
       "      <td>{'Calories': 0.0, 'Fat': 0.0, 'Cholesterol': 0...</td>\n",
       "    </tr>\n",
       "    <tr>\n",
       "      <th>freq</th>\n",
       "      <td>1</td>\n",
       "      <td>1</td>\n",
       "      <td>NaN</td>\n",
       "      <td>NaN</td>\n",
       "      <td>1</td>\n",
       "      <td>2</td>\n",
       "      <td>2</td>\n",
       "    </tr>\n",
       "    <tr>\n",
       "      <th>mean</th>\n",
       "      <td>NaN</td>\n",
       "      <td>NaN</td>\n",
       "      <td>106.024825</td>\n",
       "      <td>4.707898</td>\n",
       "      <td>NaN</td>\n",
       "      <td>NaN</td>\n",
       "      <td>NaN</td>\n",
       "    </tr>\n",
       "    <tr>\n",
       "      <th>std</th>\n",
       "      <td>NaN</td>\n",
       "      <td>NaN</td>\n",
       "      <td>596.770795</td>\n",
       "      <td>0.179261</td>\n",
       "      <td>NaN</td>\n",
       "      <td>NaN</td>\n",
       "      <td>NaN</td>\n",
       "    </tr>\n",
       "    <tr>\n",
       "      <th>min</th>\n",
       "      <td>NaN</td>\n",
       "      <td>NaN</td>\n",
       "      <td>0.000000</td>\n",
       "      <td>3.830000</td>\n",
       "      <td>NaN</td>\n",
       "      <td>NaN</td>\n",
       "      <td>NaN</td>\n",
       "    </tr>\n",
       "    <tr>\n",
       "      <th>25%</th>\n",
       "      <td>NaN</td>\n",
       "      <td>NaN</td>\n",
       "      <td>15.000000</td>\n",
       "      <td>4.620000</td>\n",
       "      <td>NaN</td>\n",
       "      <td>NaN</td>\n",
       "      <td>NaN</td>\n",
       "    </tr>\n",
       "    <tr>\n",
       "      <th>50%</th>\n",
       "      <td>NaN</td>\n",
       "      <td>NaN</td>\n",
       "      <td>30.000000</td>\n",
       "      <td>4.740000</td>\n",
       "      <td>NaN</td>\n",
       "      <td>NaN</td>\n",
       "      <td>NaN</td>\n",
       "    </tr>\n",
       "    <tr>\n",
       "      <th>75%</th>\n",
       "      <td>NaN</td>\n",
       "      <td>NaN</td>\n",
       "      <td>50.000000</td>\n",
       "      <td>4.840000</td>\n",
       "      <td>NaN</td>\n",
       "      <td>NaN</td>\n",
       "      <td>NaN</td>\n",
       "    </tr>\n",
       "    <tr>\n",
       "      <th>max</th>\n",
       "      <td>NaN</td>\n",
       "      <td>NaN</td>\n",
       "      <td>20190.000000</td>\n",
       "      <td>5.000000</td>\n",
       "      <td>NaN</td>\n",
       "      <td>NaN</td>\n",
       "      <td>NaN</td>\n",
       "    </tr>\n",
       "  </tbody>\n",
       "</table>\n",
       "</div>"
      ],
      "text/plain": [
       "                                                 page_url  \\\n",
       "count                                                1289   \n",
       "unique                                               1289   \n",
       "top     https://www.food.com/recipe/pork-steak-42905?f...   \n",
       "freq                                                    1   \n",
       "mean                                                  NaN   \n",
       "std                                                   NaN   \n",
       "min                                                   NaN   \n",
       "25%                                                   NaN   \n",
       "50%                                                   NaN   \n",
       "75%                                                   NaN   \n",
       "max                                                   NaN   \n",
       "\n",
       "                                 title    total_time       rating  \\\n",
       "count                             1289   1289.000000  1289.000000   \n",
       "unique                            1289           NaN          NaN   \n",
       "top     ZIPPITY DOOO DAAAA ORZO SALAD!           NaN          NaN   \n",
       "freq                                 1           NaN          NaN   \n",
       "mean                               NaN    106.024825     4.707898   \n",
       "std                                NaN    596.770795     0.179261   \n",
       "min                                NaN      0.000000     3.830000   \n",
       "25%                                NaN     15.000000     4.620000   \n",
       "50%                                NaN     30.000000     4.740000   \n",
       "75%                                NaN     50.000000     4.840000   \n",
       "max                                NaN  20190.000000     5.000000   \n",
       "\n",
       "                                          personal_rating            ingred  \\\n",
       "count                                                1289              1289   \n",
       "unique                                               1289              1287   \n",
       "top     {'SlipC': 5.0, 'Devon S': 5.0, 'Maeven6': 5.0,...  [barbecue sauce]   \n",
       "freq                                                    1                 2   \n",
       "mean                                                  NaN               NaN   \n",
       "std                                                   NaN               NaN   \n",
       "min                                                   NaN               NaN   \n",
       "25%                                                   NaN               NaN   \n",
       "50%                                                   NaN               NaN   \n",
       "75%                                                   NaN               NaN   \n",
       "max                                                   NaN               NaN   \n",
       "\n",
       "                                                nutrition  \n",
       "count                                                1289  \n",
       "unique                                               1288  \n",
       "top     {'Calories': 0.0, 'Fat': 0.0, 'Cholesterol': 0...  \n",
       "freq                                                    2  \n",
       "mean                                                  NaN  \n",
       "std                                                   NaN  \n",
       "min                                                   NaN  \n",
       "25%                                                   NaN  \n",
       "50%                                                   NaN  \n",
       "75%                                                   NaN  \n",
       "max                                                   NaN  "
      ]
     },
     "execution_count": 8,
     "metadata": {},
     "output_type": "execute_result"
    }
   ],
   "source": [
    "data.describe(include = 'all')"
   ]
  },
  {
   "cell_type": "markdown",
   "metadata": {},
   "source": [
    "#### Eliminate total time = 0"
   ]
  },
  {
   "cell_type": "code",
   "execution_count": 9,
   "metadata": {},
   "outputs": [
    {
     "ename": "TypeError",
     "evalue": "unhashable type: 'dict'",
     "output_type": "error",
     "traceback": [
      "\u001b[0;31m---------------------------------------------------------------------------\u001b[0m",
      "\u001b[0;31mTypeError\u001b[0m                                 Traceback (most recent call last)",
      "\u001b[0;32mpandas/_libs/hashtable_class_helper.pxi\u001b[0m in \u001b[0;36mpandas._libs.hashtable.PyObjectHashTable.map_locations\u001b[0;34m()\u001b[0m\n",
      "\u001b[0;31mTypeError\u001b[0m: unhashable type: 'dict'"
     ]
    },
    {
     "name": "stderr",
     "output_type": "stream",
     "text": [
      "Exception ignored in: 'pandas._libs.index.IndexEngine._call_map_locations'\n",
      "Traceback (most recent call last):\n",
      "  File \"pandas/_libs/hashtable_class_helper.pxi\", line 1648, in pandas._libs.hashtable.PyObjectHashTable.map_locations\n",
      "TypeError: unhashable type: 'dict'\n"
     ]
    },
    {
     "ename": "TypeError",
     "evalue": "unhashable type: 'list'",
     "output_type": "error",
     "traceback": [
      "\u001b[0;31m---------------------------------------------------------------------------\u001b[0m",
      "\u001b[0;31mTypeError\u001b[0m                                 Traceback (most recent call last)",
      "\u001b[0;32mpandas/_libs/hashtable_class_helper.pxi\u001b[0m in \u001b[0;36mpandas._libs.hashtable.PyObjectHashTable.map_locations\u001b[0;34m()\u001b[0m\n",
      "\u001b[0;31mTypeError\u001b[0m: unhashable type: 'list'"
     ]
    },
    {
     "name": "stderr",
     "output_type": "stream",
     "text": [
      "Exception ignored in: 'pandas._libs.index.IndexEngine._call_map_locations'\n",
      "Traceback (most recent call last):\n",
      "  File \"pandas/_libs/hashtable_class_helper.pxi\", line 1648, in pandas._libs.hashtable.PyObjectHashTable.map_locations\n",
      "TypeError: unhashable type: 'list'\n"
     ]
    },
    {
     "ename": "TypeError",
     "evalue": "unhashable type: 'dict'",
     "output_type": "error",
     "traceback": [
      "\u001b[0;31m---------------------------------------------------------------------------\u001b[0m",
      "\u001b[0;31mTypeError\u001b[0m                                 Traceback (most recent call last)",
      "\u001b[0;32mpandas/_libs/hashtable_class_helper.pxi\u001b[0m in \u001b[0;36mpandas._libs.hashtable.PyObjectHashTable.map_locations\u001b[0;34m()\u001b[0m\n",
      "\u001b[0;31mTypeError\u001b[0m: unhashable type: 'dict'"
     ]
    },
    {
     "name": "stderr",
     "output_type": "stream",
     "text": [
      "Exception ignored in: 'pandas._libs.index.IndexEngine._call_map_locations'\n",
      "Traceback (most recent call last):\n",
      "  File \"pandas/_libs/hashtable_class_helper.pxi\", line 1648, in pandas._libs.hashtable.PyObjectHashTable.map_locations\n",
      "TypeError: unhashable type: 'dict'\n"
     ]
    },
    {
     "data": {
      "text/html": [
       "<div>\n",
       "<style scoped>\n",
       "    .dataframe tbody tr th:only-of-type {\n",
       "        vertical-align: middle;\n",
       "    }\n",
       "\n",
       "    .dataframe tbody tr th {\n",
       "        vertical-align: top;\n",
       "    }\n",
       "\n",
       "    .dataframe thead th {\n",
       "        text-align: right;\n",
       "    }\n",
       "</style>\n",
       "<table border=\"1\" class=\"dataframe\">\n",
       "  <thead>\n",
       "    <tr style=\"text-align: right;\">\n",
       "      <th></th>\n",
       "      <th>page_url</th>\n",
       "      <th>title</th>\n",
       "      <th>total_time</th>\n",
       "      <th>rating</th>\n",
       "      <th>personal_rating</th>\n",
       "      <th>ingred</th>\n",
       "      <th>nutrition</th>\n",
       "    </tr>\n",
       "  </thead>\n",
       "  <tbody>\n",
       "    <tr>\n",
       "      <th>count</th>\n",
       "      <td>1233</td>\n",
       "      <td>1233</td>\n",
       "      <td>1233.000000</td>\n",
       "      <td>1233.000000</td>\n",
       "      <td>1233</td>\n",
       "      <td>1233</td>\n",
       "      <td>1233</td>\n",
       "    </tr>\n",
       "    <tr>\n",
       "      <th>unique</th>\n",
       "      <td>1233</td>\n",
       "      <td>1233</td>\n",
       "      <td>NaN</td>\n",
       "      <td>NaN</td>\n",
       "      <td>1233</td>\n",
       "      <td>1231</td>\n",
       "      <td>1233</td>\n",
       "    </tr>\n",
       "    <tr>\n",
       "      <th>top</th>\n",
       "      <td>https://www.food.com/recipe/pork-steak-42905?f...</td>\n",
       "      <td>ZIPPITY DOOO DAAAA ORZO SALAD!</td>\n",
       "      <td>NaN</td>\n",
       "      <td>NaN</td>\n",
       "      <td>{'NanaRLL': 5.0, 'jewelrybug': 3.0, 'Lindas Bu...</td>\n",
       "      <td>[eggs, water]</td>\n",
       "      <td>{'Calories': 4986.0, 'Fat': 265.0, 'Cholestero...</td>\n",
       "    </tr>\n",
       "    <tr>\n",
       "      <th>freq</th>\n",
       "      <td>1</td>\n",
       "      <td>1</td>\n",
       "      <td>NaN</td>\n",
       "      <td>NaN</td>\n",
       "      <td>1</td>\n",
       "      <td>2</td>\n",
       "      <td>1</td>\n",
       "    </tr>\n",
       "    <tr>\n",
       "      <th>mean</th>\n",
       "      <td>NaN</td>\n",
       "      <td>NaN</td>\n",
       "      <td>110.840227</td>\n",
       "      <td>4.707899</td>\n",
       "      <td>NaN</td>\n",
       "      <td>NaN</td>\n",
       "      <td>NaN</td>\n",
       "    </tr>\n",
       "    <tr>\n",
       "      <th>std</th>\n",
       "      <td>NaN</td>\n",
       "      <td>NaN</td>\n",
       "      <td>609.745176</td>\n",
       "      <td>0.180003</td>\n",
       "      <td>NaN</td>\n",
       "      <td>NaN</td>\n",
       "      <td>NaN</td>\n",
       "    </tr>\n",
       "    <tr>\n",
       "      <th>min</th>\n",
       "      <td>NaN</td>\n",
       "      <td>NaN</td>\n",
       "      <td>2.000000</td>\n",
       "      <td>3.830000</td>\n",
       "      <td>NaN</td>\n",
       "      <td>NaN</td>\n",
       "      <td>NaN</td>\n",
       "    </tr>\n",
       "    <tr>\n",
       "      <th>25%</th>\n",
       "      <td>NaN</td>\n",
       "      <td>NaN</td>\n",
       "      <td>17.000000</td>\n",
       "      <td>4.620000</td>\n",
       "      <td>NaN</td>\n",
       "      <td>NaN</td>\n",
       "      <td>NaN</td>\n",
       "    </tr>\n",
       "    <tr>\n",
       "      <th>50%</th>\n",
       "      <td>NaN</td>\n",
       "      <td>NaN</td>\n",
       "      <td>30.000000</td>\n",
       "      <td>4.740000</td>\n",
       "      <td>NaN</td>\n",
       "      <td>NaN</td>\n",
       "      <td>NaN</td>\n",
       "    </tr>\n",
       "    <tr>\n",
       "      <th>75%</th>\n",
       "      <td>NaN</td>\n",
       "      <td>NaN</td>\n",
       "      <td>50.000000</td>\n",
       "      <td>4.840000</td>\n",
       "      <td>NaN</td>\n",
       "      <td>NaN</td>\n",
       "      <td>NaN</td>\n",
       "    </tr>\n",
       "    <tr>\n",
       "      <th>max</th>\n",
       "      <td>NaN</td>\n",
       "      <td>NaN</td>\n",
       "      <td>20190.000000</td>\n",
       "      <td>5.000000</td>\n",
       "      <td>NaN</td>\n",
       "      <td>NaN</td>\n",
       "      <td>NaN</td>\n",
       "    </tr>\n",
       "  </tbody>\n",
       "</table>\n",
       "</div>"
      ],
      "text/plain": [
       "                                                 page_url  \\\n",
       "count                                                1233   \n",
       "unique                                               1233   \n",
       "top     https://www.food.com/recipe/pork-steak-42905?f...   \n",
       "freq                                                    1   \n",
       "mean                                                  NaN   \n",
       "std                                                   NaN   \n",
       "min                                                   NaN   \n",
       "25%                                                   NaN   \n",
       "50%                                                   NaN   \n",
       "75%                                                   NaN   \n",
       "max                                                   NaN   \n",
       "\n",
       "                                 title    total_time       rating  \\\n",
       "count                             1233   1233.000000  1233.000000   \n",
       "unique                            1233           NaN          NaN   \n",
       "top     ZIPPITY DOOO DAAAA ORZO SALAD!           NaN          NaN   \n",
       "freq                                 1           NaN          NaN   \n",
       "mean                               NaN    110.840227     4.707899   \n",
       "std                                NaN    609.745176     0.180003   \n",
       "min                                NaN      2.000000     3.830000   \n",
       "25%                                NaN     17.000000     4.620000   \n",
       "50%                                NaN     30.000000     4.740000   \n",
       "75%                                NaN     50.000000     4.840000   \n",
       "max                                NaN  20190.000000     5.000000   \n",
       "\n",
       "                                          personal_rating         ingred  \\\n",
       "count                                                1233           1233   \n",
       "unique                                               1233           1231   \n",
       "top     {'NanaRLL': 5.0, 'jewelrybug': 3.0, 'Lindas Bu...  [eggs, water]   \n",
       "freq                                                    1              2   \n",
       "mean                                                  NaN            NaN   \n",
       "std                                                   NaN            NaN   \n",
       "min                                                   NaN            NaN   \n",
       "25%                                                   NaN            NaN   \n",
       "50%                                                   NaN            NaN   \n",
       "75%                                                   NaN            NaN   \n",
       "max                                                   NaN            NaN   \n",
       "\n",
       "                                                nutrition  \n",
       "count                                                1233  \n",
       "unique                                               1233  \n",
       "top     {'Calories': 4986.0, 'Fat': 265.0, 'Cholestero...  \n",
       "freq                                                    1  \n",
       "mean                                                  NaN  \n",
       "std                                                   NaN  \n",
       "min                                                   NaN  \n",
       "25%                                                   NaN  \n",
       "50%                                                   NaN  \n",
       "75%                                                   NaN  \n",
       "max                                                   NaN  "
      ]
     },
     "execution_count": 9,
     "metadata": {},
     "output_type": "execute_result"
    }
   ],
   "source": [
    "data = data[data.total_time != 0]\n",
    "data.describe(include = 'all')"
   ]
  },
  {
   "cell_type": "markdown",
   "metadata": {},
   "source": [
    "#### 1. Nutrition matrix"
   ]
  },
  {
   "cell_type": "code",
   "execution_count": 10,
   "metadata": {},
   "outputs": [
    {
     "data": {
      "text/html": [
       "<div>\n",
       "<style scoped>\n",
       "    .dataframe tbody tr th:only-of-type {\n",
       "        vertical-align: middle;\n",
       "    }\n",
       "\n",
       "    .dataframe tbody tr th {\n",
       "        vertical-align: top;\n",
       "    }\n",
       "\n",
       "    .dataframe thead th {\n",
       "        text-align: right;\n",
       "    }\n",
       "</style>\n",
       "<table border=\"1\" class=\"dataframe\">\n",
       "  <thead>\n",
       "    <tr style=\"text-align: right;\">\n",
       "      <th></th>\n",
       "      <th>Calories</th>\n",
       "      <th>Fat</th>\n",
       "      <th>Cholesterol</th>\n",
       "      <th>Sodium</th>\n",
       "      <th>Carbohydrate</th>\n",
       "      <th>Protein</th>\n",
       "    </tr>\n",
       "    <tr>\n",
       "      <th>title</th>\n",
       "      <th></th>\n",
       "      <th></th>\n",
       "      <th></th>\n",
       "      <th></th>\n",
       "      <th></th>\n",
       "      <th></th>\n",
       "    </tr>\n",
       "  </thead>\n",
       "  <tbody>\n",
       "    <tr>\n",
       "      <th>MARINATED POTATO AND GREEN BEAN SALAD</th>\n",
       "      <td>5145.0</td>\n",
       "      <td>366.0</td>\n",
       "      <td>0.0</td>\n",
       "      <td>6221.0</td>\n",
       "      <td>43.0</td>\n",
       "      <td>64.0</td>\n",
       "    </tr>\n",
       "    <tr>\n",
       "      <th>COTTAGE CHEESE FRUIT SALAD</th>\n",
       "      <td>2166.0</td>\n",
       "      <td>96.0</td>\n",
       "      <td>96.0</td>\n",
       "      <td>2655.0</td>\n",
       "      <td>261.0</td>\n",
       "      <td>77.0</td>\n",
       "    </tr>\n",
       "    <tr>\n",
       "      <th>SUPER EASY NAAN BREAD</th>\n",
       "      <td>180.0</td>\n",
       "      <td>5.0</td>\n",
       "      <td>0.0</td>\n",
       "      <td>2935.0</td>\n",
       "      <td>378.0</td>\n",
       "      <td>52.0</td>\n",
       "    </tr>\n",
       "    <tr>\n",
       "      <th>PESTO</th>\n",
       "      <td>1376.0</td>\n",
       "      <td>108.0</td>\n",
       "      <td>73.0</td>\n",
       "      <td>1305.0</td>\n",
       "      <td>62.0</td>\n",
       "      <td>52.0</td>\n",
       "    </tr>\n",
       "    <tr>\n",
       "      <th>SOFTEST EVER BREAD MACHINE BREAD</th>\n",
       "      <td>19673.0</td>\n",
       "      <td>587.0</td>\n",
       "      <td>0.0</td>\n",
       "      <td>2344.0</td>\n",
       "      <td>3143.0</td>\n",
       "      <td>416.0</td>\n",
       "    </tr>\n",
       "  </tbody>\n",
       "</table>\n",
       "</div>"
      ],
      "text/plain": [
       "                                       Calories    Fat  Cholesterol  Sodium  \\\n",
       "title                                                                         \n",
       "MARINATED POTATO AND GREEN BEAN SALAD    5145.0  366.0          0.0  6221.0   \n",
       "COTTAGE CHEESE FRUIT SALAD               2166.0   96.0         96.0  2655.0   \n",
       "SUPER EASY NAAN BREAD                     180.0    5.0          0.0  2935.0   \n",
       "PESTO                                    1376.0  108.0         73.0  1305.0   \n",
       "SOFTEST EVER BREAD MACHINE BREAD        19673.0  587.0          0.0  2344.0   \n",
       "\n",
       "                                       Carbohydrate  Protein  \n",
       "title                                                         \n",
       "MARINATED POTATO AND GREEN BEAN SALAD          43.0     64.0  \n",
       "COTTAGE CHEESE FRUIT SALAD                    261.0     77.0  \n",
       "SUPER EASY NAAN BREAD                         378.0     52.0  \n",
       "PESTO                                          62.0     52.0  \n",
       "SOFTEST EVER BREAD MACHINE BREAD             3143.0    416.0  "
      ]
     },
     "execution_count": 10,
     "metadata": {},
     "output_type": "execute_result"
    }
   ],
   "source": [
    "nutri_matrix = pd.DataFrame()\n",
    "nd = []\n",
    "for d in data.nutrition:\n",
    "    nd.append(d)\n",
    "nutri_matrix = nutri_matrix.append(nd)\n",
    "nutri_matrix.index = data.title\n",
    "nutri_matrix.tail()"
   ]
  },
  {
   "cell_type": "markdown",
   "metadata": {},
   "source": [
    "#### 2. Time matrix"
   ]
  },
  {
   "cell_type": "code",
   "execution_count": 11,
   "metadata": {},
   "outputs": [
    {
     "data": {
      "text/html": [
       "<div>\n",
       "<style scoped>\n",
       "    .dataframe tbody tr th:only-of-type {\n",
       "        vertical-align: middle;\n",
       "    }\n",
       "\n",
       "    .dataframe tbody tr th {\n",
       "        vertical-align: top;\n",
       "    }\n",
       "\n",
       "    .dataframe thead th {\n",
       "        text-align: right;\n",
       "    }\n",
       "</style>\n",
       "<table border=\"1\" class=\"dataframe\">\n",
       "  <thead>\n",
       "    <tr style=\"text-align: right;\">\n",
       "      <th></th>\n",
       "      <th>total_time</th>\n",
       "    </tr>\n",
       "    <tr>\n",
       "      <th>title</th>\n",
       "      <th></th>\n",
       "    </tr>\n",
       "  </thead>\n",
       "  <tbody>\n",
       "    <tr>\n",
       "      <th>MARINATED POTATO AND GREEN BEAN SALAD</th>\n",
       "      <td>50</td>\n",
       "    </tr>\n",
       "    <tr>\n",
       "      <th>COTTAGE CHEESE FRUIT SALAD</th>\n",
       "      <td>180</td>\n",
       "    </tr>\n",
       "    <tr>\n",
       "      <th>SUPER EASY NAAN BREAD</th>\n",
       "      <td>55</td>\n",
       "    </tr>\n",
       "    <tr>\n",
       "      <th>PESTO</th>\n",
       "      <td>10</td>\n",
       "    </tr>\n",
       "    <tr>\n",
       "      <th>SOFTEST EVER BREAD MACHINE BREAD</th>\n",
       "      <td>10</td>\n",
       "    </tr>\n",
       "  </tbody>\n",
       "</table>\n",
       "</div>"
      ],
      "text/plain": [
       "                                       total_time\n",
       "title                                            \n",
       "MARINATED POTATO AND GREEN BEAN SALAD          50\n",
       "COTTAGE CHEESE FRUIT SALAD                    180\n",
       "SUPER EASY NAAN BREAD                          55\n",
       "PESTO                                          10\n",
       "SOFTEST EVER BREAD MACHINE BREAD               10"
      ]
     },
     "execution_count": 11,
     "metadata": {},
     "output_type": "execute_result"
    }
   ],
   "source": [
    "time_matrix = pd.DataFrame(data = data.total_time)\n",
    "time_matrix.index = data.title\n",
    "time_matrix.tail()"
   ]
  },
  {
   "cell_type": "markdown",
   "metadata": {},
   "source": [
    "#### 3. Ingredient matrix"
   ]
  },
  {
   "cell_type": "code",
   "execution_count": 12,
   "metadata": {},
   "outputs": [
    {
     "ename": "FileNotFoundError",
     "evalue": "[Errno 2] File ingredientMatrixFoodDotCom.csv does not exist: 'ingredientMatrixFoodDotCom.csv'",
     "output_type": "error",
     "traceback": [
      "\u001b[0;31m---------------------------------------------------------------------------\u001b[0m",
      "\u001b[0;31mFileNotFoundError\u001b[0m                         Traceback (most recent call last)",
      "\u001b[0;32m<ipython-input-12-736d052c2800>\u001b[0m in \u001b[0;36m<module>\u001b[0;34m\u001b[0m\n\u001b[0;32m----> 1\u001b[0;31m \u001b[0mingredMat\u001b[0m \u001b[0;34m=\u001b[0m \u001b[0mpd\u001b[0m\u001b[0;34m.\u001b[0m\u001b[0mread_csv\u001b[0m\u001b[0;34m(\u001b[0m\u001b[0;34m'ingredientMatrixFoodDotCom.csv'\u001b[0m\u001b[0;34m)\u001b[0m\u001b[0;34m\u001b[0m\u001b[0;34m\u001b[0m\u001b[0m\n\u001b[0m\u001b[1;32m      2\u001b[0m \u001b[0mingredMat\u001b[0m \u001b[0;34m=\u001b[0m \u001b[0mingredMat\u001b[0m\u001b[0;34m.\u001b[0m\u001b[0mfillna\u001b[0m\u001b[0;34m(\u001b[0m\u001b[0;36m0\u001b[0m\u001b[0;34m)\u001b[0m\u001b[0;34m\u001b[0m\u001b[0;34m\u001b[0m\u001b[0m\n\u001b[1;32m      3\u001b[0m \u001b[0mtitle\u001b[0m \u001b[0;34m=\u001b[0m \u001b[0mingredMat\u001b[0m\u001b[0;34m[\u001b[0m\u001b[0;34m'Unnamed: 0'\u001b[0m\u001b[0;34m]\u001b[0m\u001b[0;34m\u001b[0m\u001b[0;34m\u001b[0m\u001b[0m\n\u001b[1;32m      4\u001b[0m \u001b[0mtitle\u001b[0m \u001b[0;34m=\u001b[0m \u001b[0mtitle\u001b[0m\u001b[0;34m.\u001b[0m\u001b[0mrename\u001b[0m\u001b[0;34m(\u001b[0m\u001b[0;34m'title'\u001b[0m\u001b[0;34m)\u001b[0m\u001b[0;34m\u001b[0m\u001b[0;34m\u001b[0m\u001b[0m\n\u001b[1;32m      5\u001b[0m \u001b[0mingredMat\u001b[0m \u001b[0;34m=\u001b[0m \u001b[0mingredMat\u001b[0m\u001b[0;34m.\u001b[0m\u001b[0mdrop\u001b[0m\u001b[0;34m(\u001b[0m\u001b[0;34m'Unnamed: 0'\u001b[0m\u001b[0;34m,\u001b[0m \u001b[0maxis\u001b[0m\u001b[0;34m=\u001b[0m\u001b[0;36m1\u001b[0m\u001b[0;34m)\u001b[0m\u001b[0;34m\u001b[0m\u001b[0;34m\u001b[0m\u001b[0m\n",
      "\u001b[0;32m~/miniconda3/lib/python3.7/site-packages/pandas/io/parsers.py\u001b[0m in \u001b[0;36mparser_f\u001b[0;34m(filepath_or_buffer, sep, delimiter, header, names, index_col, usecols, squeeze, prefix, mangle_dupe_cols, dtype, engine, converters, true_values, false_values, skipinitialspace, skiprows, skipfooter, nrows, na_values, keep_default_na, na_filter, verbose, skip_blank_lines, parse_dates, infer_datetime_format, keep_date_col, date_parser, dayfirst, cache_dates, iterator, chunksize, compression, thousands, decimal, lineterminator, quotechar, quoting, doublequote, escapechar, comment, encoding, dialect, error_bad_lines, warn_bad_lines, delim_whitespace, low_memory, memory_map, float_precision)\u001b[0m\n\u001b[1;32m    674\u001b[0m         )\n\u001b[1;32m    675\u001b[0m \u001b[0;34m\u001b[0m\u001b[0m\n\u001b[0;32m--> 676\u001b[0;31m         \u001b[0;32mreturn\u001b[0m \u001b[0m_read\u001b[0m\u001b[0;34m(\u001b[0m\u001b[0mfilepath_or_buffer\u001b[0m\u001b[0;34m,\u001b[0m \u001b[0mkwds\u001b[0m\u001b[0;34m)\u001b[0m\u001b[0;34m\u001b[0m\u001b[0;34m\u001b[0m\u001b[0m\n\u001b[0m\u001b[1;32m    677\u001b[0m \u001b[0;34m\u001b[0m\u001b[0m\n\u001b[1;32m    678\u001b[0m     \u001b[0mparser_f\u001b[0m\u001b[0;34m.\u001b[0m\u001b[0m__name__\u001b[0m \u001b[0;34m=\u001b[0m \u001b[0mname\u001b[0m\u001b[0;34m\u001b[0m\u001b[0;34m\u001b[0m\u001b[0m\n",
      "\u001b[0;32m~/miniconda3/lib/python3.7/site-packages/pandas/io/parsers.py\u001b[0m in \u001b[0;36m_read\u001b[0;34m(filepath_or_buffer, kwds)\u001b[0m\n\u001b[1;32m    446\u001b[0m \u001b[0;34m\u001b[0m\u001b[0m\n\u001b[1;32m    447\u001b[0m     \u001b[0;31m# Create the parser.\u001b[0m\u001b[0;34m\u001b[0m\u001b[0;34m\u001b[0m\u001b[0;34m\u001b[0m\u001b[0m\n\u001b[0;32m--> 448\u001b[0;31m     \u001b[0mparser\u001b[0m \u001b[0;34m=\u001b[0m \u001b[0mTextFileReader\u001b[0m\u001b[0;34m(\u001b[0m\u001b[0mfp_or_buf\u001b[0m\u001b[0;34m,\u001b[0m \u001b[0;34m**\u001b[0m\u001b[0mkwds\u001b[0m\u001b[0;34m)\u001b[0m\u001b[0;34m\u001b[0m\u001b[0;34m\u001b[0m\u001b[0m\n\u001b[0m\u001b[1;32m    449\u001b[0m \u001b[0;34m\u001b[0m\u001b[0m\n\u001b[1;32m    450\u001b[0m     \u001b[0;32mif\u001b[0m \u001b[0mchunksize\u001b[0m \u001b[0;32mor\u001b[0m \u001b[0miterator\u001b[0m\u001b[0;34m:\u001b[0m\u001b[0;34m\u001b[0m\u001b[0;34m\u001b[0m\u001b[0m\n",
      "\u001b[0;32m~/miniconda3/lib/python3.7/site-packages/pandas/io/parsers.py\u001b[0m in \u001b[0;36m__init__\u001b[0;34m(self, f, engine, **kwds)\u001b[0m\n\u001b[1;32m    878\u001b[0m             \u001b[0mself\u001b[0m\u001b[0;34m.\u001b[0m\u001b[0moptions\u001b[0m\u001b[0;34m[\u001b[0m\u001b[0;34m\"has_index_names\"\u001b[0m\u001b[0;34m]\u001b[0m \u001b[0;34m=\u001b[0m \u001b[0mkwds\u001b[0m\u001b[0;34m[\u001b[0m\u001b[0;34m\"has_index_names\"\u001b[0m\u001b[0;34m]\u001b[0m\u001b[0;34m\u001b[0m\u001b[0;34m\u001b[0m\u001b[0m\n\u001b[1;32m    879\u001b[0m \u001b[0;34m\u001b[0m\u001b[0m\n\u001b[0;32m--> 880\u001b[0;31m         \u001b[0mself\u001b[0m\u001b[0;34m.\u001b[0m\u001b[0m_make_engine\u001b[0m\u001b[0;34m(\u001b[0m\u001b[0mself\u001b[0m\u001b[0;34m.\u001b[0m\u001b[0mengine\u001b[0m\u001b[0;34m)\u001b[0m\u001b[0;34m\u001b[0m\u001b[0;34m\u001b[0m\u001b[0m\n\u001b[0m\u001b[1;32m    881\u001b[0m \u001b[0;34m\u001b[0m\u001b[0m\n\u001b[1;32m    882\u001b[0m     \u001b[0;32mdef\u001b[0m \u001b[0mclose\u001b[0m\u001b[0;34m(\u001b[0m\u001b[0mself\u001b[0m\u001b[0;34m)\u001b[0m\u001b[0;34m:\u001b[0m\u001b[0;34m\u001b[0m\u001b[0;34m\u001b[0m\u001b[0m\n",
      "\u001b[0;32m~/miniconda3/lib/python3.7/site-packages/pandas/io/parsers.py\u001b[0m in \u001b[0;36m_make_engine\u001b[0;34m(self, engine)\u001b[0m\n\u001b[1;32m   1112\u001b[0m     \u001b[0;32mdef\u001b[0m \u001b[0m_make_engine\u001b[0m\u001b[0;34m(\u001b[0m\u001b[0mself\u001b[0m\u001b[0;34m,\u001b[0m \u001b[0mengine\u001b[0m\u001b[0;34m=\u001b[0m\u001b[0;34m\"c\"\u001b[0m\u001b[0;34m)\u001b[0m\u001b[0;34m:\u001b[0m\u001b[0;34m\u001b[0m\u001b[0;34m\u001b[0m\u001b[0m\n\u001b[1;32m   1113\u001b[0m         \u001b[0;32mif\u001b[0m \u001b[0mengine\u001b[0m \u001b[0;34m==\u001b[0m \u001b[0;34m\"c\"\u001b[0m\u001b[0;34m:\u001b[0m\u001b[0;34m\u001b[0m\u001b[0;34m\u001b[0m\u001b[0m\n\u001b[0;32m-> 1114\u001b[0;31m             \u001b[0mself\u001b[0m\u001b[0;34m.\u001b[0m\u001b[0m_engine\u001b[0m \u001b[0;34m=\u001b[0m \u001b[0mCParserWrapper\u001b[0m\u001b[0;34m(\u001b[0m\u001b[0mself\u001b[0m\u001b[0;34m.\u001b[0m\u001b[0mf\u001b[0m\u001b[0;34m,\u001b[0m \u001b[0;34m**\u001b[0m\u001b[0mself\u001b[0m\u001b[0;34m.\u001b[0m\u001b[0moptions\u001b[0m\u001b[0;34m)\u001b[0m\u001b[0;34m\u001b[0m\u001b[0;34m\u001b[0m\u001b[0m\n\u001b[0m\u001b[1;32m   1115\u001b[0m         \u001b[0;32melse\u001b[0m\u001b[0;34m:\u001b[0m\u001b[0;34m\u001b[0m\u001b[0;34m\u001b[0m\u001b[0m\n\u001b[1;32m   1116\u001b[0m             \u001b[0;32mif\u001b[0m \u001b[0mengine\u001b[0m \u001b[0;34m==\u001b[0m \u001b[0;34m\"python\"\u001b[0m\u001b[0;34m:\u001b[0m\u001b[0;34m\u001b[0m\u001b[0;34m\u001b[0m\u001b[0m\n",
      "\u001b[0;32m~/miniconda3/lib/python3.7/site-packages/pandas/io/parsers.py\u001b[0m in \u001b[0;36m__init__\u001b[0;34m(self, src, **kwds)\u001b[0m\n\u001b[1;32m   1889\u001b[0m         \u001b[0mkwds\u001b[0m\u001b[0;34m[\u001b[0m\u001b[0;34m\"usecols\"\u001b[0m\u001b[0;34m]\u001b[0m \u001b[0;34m=\u001b[0m \u001b[0mself\u001b[0m\u001b[0;34m.\u001b[0m\u001b[0musecols\u001b[0m\u001b[0;34m\u001b[0m\u001b[0;34m\u001b[0m\u001b[0m\n\u001b[1;32m   1890\u001b[0m \u001b[0;34m\u001b[0m\u001b[0m\n\u001b[0;32m-> 1891\u001b[0;31m         \u001b[0mself\u001b[0m\u001b[0;34m.\u001b[0m\u001b[0m_reader\u001b[0m \u001b[0;34m=\u001b[0m \u001b[0mparsers\u001b[0m\u001b[0;34m.\u001b[0m\u001b[0mTextReader\u001b[0m\u001b[0;34m(\u001b[0m\u001b[0msrc\u001b[0m\u001b[0;34m,\u001b[0m \u001b[0;34m**\u001b[0m\u001b[0mkwds\u001b[0m\u001b[0;34m)\u001b[0m\u001b[0;34m\u001b[0m\u001b[0;34m\u001b[0m\u001b[0m\n\u001b[0m\u001b[1;32m   1892\u001b[0m         \u001b[0mself\u001b[0m\u001b[0;34m.\u001b[0m\u001b[0munnamed_cols\u001b[0m \u001b[0;34m=\u001b[0m \u001b[0mself\u001b[0m\u001b[0;34m.\u001b[0m\u001b[0m_reader\u001b[0m\u001b[0;34m.\u001b[0m\u001b[0munnamed_cols\u001b[0m\u001b[0;34m\u001b[0m\u001b[0;34m\u001b[0m\u001b[0m\n\u001b[1;32m   1893\u001b[0m \u001b[0;34m\u001b[0m\u001b[0m\n",
      "\u001b[0;32mpandas/_libs/parsers.pyx\u001b[0m in \u001b[0;36mpandas._libs.parsers.TextReader.__cinit__\u001b[0;34m()\u001b[0m\n",
      "\u001b[0;32mpandas/_libs/parsers.pyx\u001b[0m in \u001b[0;36mpandas._libs.parsers.TextReader._setup_parser_source\u001b[0;34m()\u001b[0m\n",
      "\u001b[0;31mFileNotFoundError\u001b[0m: [Errno 2] File ingredientMatrixFoodDotCom.csv does not exist: 'ingredientMatrixFoodDotCom.csv'"
     ]
    }
   ],
   "source": [
    "ingredMat = pd.read_csv('ingredientMatrixFoodDotCom.csv')\n",
    "ingredMat = ingredMat.fillna(0)\n",
    "title = ingredMat['Unnamed: 0']\n",
    "title = title.rename('title')\n",
    "ingredMat = ingredMat.drop('Unnamed: 0', axis=1)\n",
    "ingredMat.index = title\n",
    "ingredMat = ingredMat.T\n",
    "ingredMat.tail()"
   ]
  },
  {
   "cell_type": "markdown",
   "metadata": {},
   "source": [
    "#### 4. Ratings matrix"
   ]
  },
  {
   "cell_type": "code",
   "execution_count": 16,
   "metadata": {},
   "outputs": [
    {
     "data": {
      "image/png": "[encoded data removed]",
      "text/plain": [
       "<Figure size 1440x432 with 1 Axes>"
      ]
     },
     "metadata": {
      "needs_background": "light"
     },
     "output_type": "display_data"
    }
   ],
   "source": [
    "# Get all users\n",
    "users = {} # key = user, value = count \n",
    "for ratings in data.personal_rating:\n",
    "    for r in ratings:\n",
    "        users[r] = users.get(r, 0) +1\n",
    "\n",
    "# number of votes\n",
    "votes = {}\n",
    "for u in users:\n",
    "    votes[users[u]] = votes.get(users[u], 1) + 1\n",
    "sorted_votes = OrderedDict(sorted(votes.items()))\n",
    "sorted_votes\n",
    "\n",
    "# plot the relationship of number of voted recipes and number of people \n",
    "fig = plt.figure(figsize = (20,6))\n",
    "ax = plt.bar([str(k) for k in sorted_votes.keys()], sorted_votes.values())\n",
    "for p in ax.patches:\n",
    "    plt.annotate(str(p.get_height()), (p.get_x(), p.get_height() * 1.005))\n",
    "plt.xlabel('number of voted recipes')\n",
    "plt.ylabel('counts (people)')\n",
    "plt.grid()"
   ]
  },
  {
   "cell_type": "code",
   "execution_count": 30,
   "metadata": {},
   "outputs": [
    {
     "data": {
      "text/html": [
       "<div>\n",
       "<style scoped>\n",
       "    .dataframe tbody tr th:only-of-type {\n",
       "        vertical-align: middle;\n",
       "    }\n",
       "\n",
       "    .dataframe tbody tr th {\n",
       "        vertical-align: top;\n",
       "    }\n",
       "\n",
       "    .dataframe thead th {\n",
       "        text-align: right;\n",
       "    }\n",
       "</style>\n",
       "<table border=\"1\" class=\"dataframe\">\n",
       "  <thead>\n",
       "    <tr style=\"text-align: right;\">\n",
       "      <th></th>\n",
       "      <th>voting_freq</th>\n",
       "      <th>count</th>\n",
       "    </tr>\n",
       "  </thead>\n",
       "  <tbody>\n",
       "    <tr>\n",
       "      <th>0</th>\n",
       "      <td>1</td>\n",
       "      <td>27848</td>\n",
       "    </tr>\n",
       "    <tr>\n",
       "      <th>1</th>\n",
       "      <td>2</td>\n",
       "      <td>5109</td>\n",
       "    </tr>\n",
       "    <tr>\n",
       "      <th>2</th>\n",
       "      <td>3</td>\n",
       "      <td>2228</td>\n",
       "    </tr>\n",
       "    <tr>\n",
       "      <th>3</th>\n",
       "      <td>4</td>\n",
       "      <td>1284</td>\n",
       "    </tr>\n",
       "    <tr>\n",
       "      <th>4</th>\n",
       "      <td>5</td>\n",
       "      <td>866</td>\n",
       "    </tr>\n",
       "    <tr>\n",
       "      <th>...</th>\n",
       "      <td>...</td>\n",
       "      <td>...</td>\n",
       "    </tr>\n",
       "    <tr>\n",
       "      <th>94</th>\n",
       "      <td>160</td>\n",
       "      <td>2</td>\n",
       "    </tr>\n",
       "    <tr>\n",
       "      <th>95</th>\n",
       "      <td>195</td>\n",
       "      <td>2</td>\n",
       "    </tr>\n",
       "    <tr>\n",
       "      <th>96</th>\n",
       "      <td>239</td>\n",
       "      <td>2</td>\n",
       "    </tr>\n",
       "    <tr>\n",
       "      <th>97</th>\n",
       "      <td>344</td>\n",
       "      <td>2</td>\n",
       "    </tr>\n",
       "    <tr>\n",
       "      <th>98</th>\n",
       "      <td>484</td>\n",
       "      <td>2</td>\n",
       "    </tr>\n",
       "  </tbody>\n",
       "</table>\n",
       "<p>99 rows × 2 columns</p>\n",
       "</div>"
      ],
      "text/plain": [
       "    voting_freq  count\n",
       "0             1  27848\n",
       "1             2   5109\n",
       "2             3   2228\n",
       "3             4   1284\n",
       "4             5    866\n",
       "..          ...    ...\n",
       "94          160      2\n",
       "95          195      2\n",
       "96          239      2\n",
       "97          344      2\n",
       "98          484      2\n",
       "\n",
       "[99 rows x 2 columns]"
      ]
     },
     "execution_count": 30,
     "metadata": {},
     "output_type": "execute_result"
    }
   ],
   "source": [
    "vote_df = pd.DataFrame()\n",
    "vote_df['voting_freq'] = sorted_votes.keys()\n",
    "vote_df['count'] = sorted_votes.values()\n",
    "vote_df"
   ]
  },
  {
   "cell_type": "code",
   "execution_count": 32,
   "metadata": {},
   "outputs": [
    {
     "ename": "SyntaxError",
     "evalue": "unexpected EOF while parsing (<ipython-input-32-2522e271718a>, line 1)",
     "output_type": "error",
     "traceback": [
      "\u001b[0;36m  File \u001b[0;32m\"<ipython-input-32-2522e271718a>\"\u001b[0;36m, line \u001b[0;32m1\u001b[0m\n\u001b[0;31m    for i in range(len(vote_df['count'])):\u001b[0m\n\u001b[0m                                          ^\u001b[0m\n\u001b[0;31mSyntaxError\u001b[0m\u001b[0;31m:\u001b[0m unexpected EOF while parsing\n"
     ]
    }
   ],
   "source": [
    "for i in range(len(vote_df['count'])):\n",
    "    if vote_df['count'][i]>=21:\n",
    "        "
   ]
  },
  {
   "cell_type": "code",
   "execution_count": 29,
   "metadata": {},
   "outputs": [],
   "source": [
    "vote_df.to_csv('vote_df.csv')"
   ]
  },
  {
   "cell_type": "code",
   "execution_count": 27,
   "metadata": {},
   "outputs": [
    {
     "data": {
      "text/plain": [
       "odict_values([27848, 5109, 2228, 1284, 866, 582, 474, 316, 268, 216, 176, 147, 115, 114, 87, 76, 69, 45, 57, 55, 51, 45, 33, 27, 33, 22, 25, 21, 23, 15, 18, 10, 12, 16, 12, 10, 17, 9, 10, 11, 9, 7, 14, 6, 7, 6, 8, 10, 5, 10, 7, 8, 6, 4, 5, 6, 5, 3, 3, 6, 5, 3, 4, 5, 6, 2, 2, 2, 2, 4, 2, 2, 2, 2, 2, 2, 4, 2, 2, 2, 3, 2, 2, 2, 2, 2, 2, 2, 2, 2, 2, 2, 2, 2, 2, 2, 2, 2, 2])"
      ]
     },
     "execution_count": 27,
     "metadata": {},
     "output_type": "execute_result"
    }
   ],
   "source": [
    "sorted_votes.values()"
   ]
  },
  {
   "cell_type": "code",
   "execution_count": 71,
   "metadata": {},
   "outputs": [
    {
     "data": {
      "text/plain": [
       "5502"
      ]
     },
     "execution_count": 71,
     "metadata": {},
     "output_type": "execute_result"
    }
   ],
   "source": [
    "# Since the matrix did not converge if I use all the voters,\n",
    "# try use those who has voded 2 recipes or more.\n",
    "useful_users = set()\n",
    "for u in users:\n",
    "    if(users[u] > 3):\n",
    "        useful_users.add(u)\n",
    "len(useful_users)"
   ]
  },
  {
   "cell_type": "code",
   "execution_count": 126,
   "metadata": {},
   "outputs": [
    {
     "data": {
      "text/plain": [
       "(5502, 1233)"
      ]
     },
     "execution_count": 126,
     "metadata": {},
     "output_type": "execute_result"
    }
   ],
   "source": [
    "# Create rating matrix\n",
    "ratingMat = pd.DataFrame(columns = data.title, index = useful_users, dtype='float')\n",
    "for idx, row in data.iterrows():\n",
    "    for user in row.personal_rating:\n",
    "        if user in useful_users:\n",
    "            if (type(row.personal_rating[user])) is float:\n",
    "                ratingMat.at[user, row.title] = row.personal_rating[user]\n",
    "ratingMat.shape"
   ]
  },
  {
   "cell_type": "code",
   "execution_count": 128,
   "metadata": {},
   "outputs": [
    {
     "data": {
      "text/html": [
       "<div>\n",
       "<style scoped>\n",
       "    .dataframe tbody tr th:only-of-type {\n",
       "        vertical-align: middle;\n",
       "    }\n",
       "\n",
       "    .dataframe tbody tr th {\n",
       "        vertical-align: top;\n",
       "    }\n",
       "\n",
       "    .dataframe thead th {\n",
       "        text-align: right;\n",
       "    }\n",
       "</style>\n",
       "<table border=\"1\" class=\"dataframe\">\n",
       "  <thead>\n",
       "    <tr style=\"text-align: right;\">\n",
       "      <th>title</th>\n",
       "      <th>DRY RUB PORK RIBS</th>\n",
       "      <th>TUNA SANDWICH OR SALAD</th>\n",
       "      <th>EASY ASIAN BEEF &amp; NOODLES - WW RECIPE</th>\n",
       "      <th>SESAME PORK STIR FRY</th>\n",
       "      <th>THAI SHRIMP (CHILI) SOUP</th>\n",
       "      <th>CHEESY HAM AND POTATO SOUP</th>\n",
       "      <th>SWEET AND SOUR CHICKEN</th>\n",
       "      <th>PERFECT ROAST TURKEY</th>\n",
       "      <th>GREEK LEMON CHICKEN WITH POTATOES</th>\n",
       "      <th>CHILI-GARLIC MARINATED PORK CHOPS</th>\n",
       "      <th>...</th>\n",
       "      <th>ZUCCHINI MARINATA (MARINATED ZUCCHINI SALAD)</th>\n",
       "      <th>ZIPPITY DOOO DAAAA ORZO SALAD!</th>\n",
       "      <th>FAILPROOF FRENCH BREAD (BREAD MACHINE)</th>\n",
       "      <th>KITTENCAL'S THICK AND RICH CREAMY TOMATO SOUP (LOW-FAT OPTION)</th>\n",
       "      <th>BAKED ASPARAGUS</th>\n",
       "      <th>MARINATED POTATO AND GREEN BEAN SALAD</th>\n",
       "      <th>COTTAGE CHEESE FRUIT SALAD</th>\n",
       "      <th>SUPER EASY NAAN BREAD</th>\n",
       "      <th>PESTO</th>\n",
       "      <th>SOFTEST EVER BREAD MACHINE BREAD</th>\n",
       "    </tr>\n",
       "  </thead>\n",
       "  <tbody>\n",
       "    <tr>\n",
       "      <td>Suzy Q Z</td>\n",
       "      <td>NaN</td>\n",
       "      <td>NaN</td>\n",
       "      <td>NaN</td>\n",
       "      <td>NaN</td>\n",
       "      <td>NaN</td>\n",
       "      <td>NaN</td>\n",
       "      <td>NaN</td>\n",
       "      <td>NaN</td>\n",
       "      <td>NaN</td>\n",
       "      <td>NaN</td>\n",
       "      <td>...</td>\n",
       "      <td>NaN</td>\n",
       "      <td>NaN</td>\n",
       "      <td>NaN</td>\n",
       "      <td>NaN</td>\n",
       "      <td>NaN</td>\n",
       "      <td>NaN</td>\n",
       "      <td>NaN</td>\n",
       "      <td>NaN</td>\n",
       "      <td>NaN</td>\n",
       "      <td>NaN</td>\n",
       "    </tr>\n",
       "    <tr>\n",
       "      <td>Annisette</td>\n",
       "      <td>NaN</td>\n",
       "      <td>NaN</td>\n",
       "      <td>NaN</td>\n",
       "      <td>NaN</td>\n",
       "      <td>NaN</td>\n",
       "      <td>NaN</td>\n",
       "      <td>NaN</td>\n",
       "      <td>NaN</td>\n",
       "      <td>NaN</td>\n",
       "      <td>NaN</td>\n",
       "      <td>...</td>\n",
       "      <td>NaN</td>\n",
       "      <td>NaN</td>\n",
       "      <td>NaN</td>\n",
       "      <td>NaN</td>\n",
       "      <td>NaN</td>\n",
       "      <td>NaN</td>\n",
       "      <td>NaN</td>\n",
       "      <td>NaN</td>\n",
       "      <td>NaN</td>\n",
       "      <td>NaN</td>\n",
       "    </tr>\n",
       "    <tr>\n",
       "      <td>Nikki Kate</td>\n",
       "      <td>NaN</td>\n",
       "      <td>NaN</td>\n",
       "      <td>NaN</td>\n",
       "      <td>NaN</td>\n",
       "      <td>NaN</td>\n",
       "      <td>NaN</td>\n",
       "      <td>NaN</td>\n",
       "      <td>NaN</td>\n",
       "      <td>NaN</td>\n",
       "      <td>NaN</td>\n",
       "      <td>...</td>\n",
       "      <td>NaN</td>\n",
       "      <td>NaN</td>\n",
       "      <td>NaN</td>\n",
       "      <td>NaN</td>\n",
       "      <td>NaN</td>\n",
       "      <td>NaN</td>\n",
       "      <td>NaN</td>\n",
       "      <td>NaN</td>\n",
       "      <td>NaN</td>\n",
       "      <td>NaN</td>\n",
       "    </tr>\n",
       "    <tr>\n",
       "      <td>messystation</td>\n",
       "      <td>NaN</td>\n",
       "      <td>NaN</td>\n",
       "      <td>NaN</td>\n",
       "      <td>NaN</td>\n",
       "      <td>NaN</td>\n",
       "      <td>NaN</td>\n",
       "      <td>NaN</td>\n",
       "      <td>NaN</td>\n",
       "      <td>NaN</td>\n",
       "      <td>NaN</td>\n",
       "      <td>...</td>\n",
       "      <td>NaN</td>\n",
       "      <td>NaN</td>\n",
       "      <td>NaN</td>\n",
       "      <td>NaN</td>\n",
       "      <td>NaN</td>\n",
       "      <td>NaN</td>\n",
       "      <td>NaN</td>\n",
       "      <td>NaN</td>\n",
       "      <td>NaN</td>\n",
       "      <td>NaN</td>\n",
       "    </tr>\n",
       "    <tr>\n",
       "      <td>barbacious</td>\n",
       "      <td>NaN</td>\n",
       "      <td>NaN</td>\n",
       "      <td>NaN</td>\n",
       "      <td>NaN</td>\n",
       "      <td>NaN</td>\n",
       "      <td>NaN</td>\n",
       "      <td>NaN</td>\n",
       "      <td>NaN</td>\n",
       "      <td>NaN</td>\n",
       "      <td>NaN</td>\n",
       "      <td>...</td>\n",
       "      <td>NaN</td>\n",
       "      <td>NaN</td>\n",
       "      <td>NaN</td>\n",
       "      <td>NaN</td>\n",
       "      <td>NaN</td>\n",
       "      <td>NaN</td>\n",
       "      <td>NaN</td>\n",
       "      <td>NaN</td>\n",
       "      <td>NaN</td>\n",
       "      <td>NaN</td>\n",
       "    </tr>\n",
       "  </tbody>\n",
       "</table>\n",
       "<p>5 rows × 1229 columns</p>\n",
       "</div>"
      ],
      "text/plain": [
       "title         DRY RUB PORK RIBS  TUNA SANDWICH OR SALAD  \\\n",
       "Suzy Q Z                    NaN                     NaN   \n",
       "Annisette                   NaN                     NaN   \n",
       "Nikki Kate                  NaN                     NaN   \n",
       "messystation                NaN                     NaN   \n",
       "barbacious                  NaN                     NaN   \n",
       "\n",
       "title         EASY ASIAN BEEF & NOODLES - WW RECIPE  SESAME PORK STIR FRY  \\\n",
       "Suzy Q Z                                        NaN                   NaN   \n",
       "Annisette                                       NaN                   NaN   \n",
       "Nikki Kate                                      NaN                   NaN   \n",
       "messystation                                    NaN                   NaN   \n",
       "barbacious                                      NaN                   NaN   \n",
       "\n",
       "title         THAI SHRIMP (CHILI) SOUP  CHEESY HAM AND POTATO SOUP  \\\n",
       "Suzy Q Z                           NaN                         NaN   \n",
       "Annisette                          NaN                         NaN   \n",
       "Nikki Kate                         NaN                         NaN   \n",
       "messystation                       NaN                         NaN   \n",
       "barbacious                         NaN                         NaN   \n",
       "\n",
       "title         SWEET AND SOUR CHICKEN  PERFECT ROAST TURKEY  \\\n",
       "Suzy Q Z                         NaN                   NaN   \n",
       "Annisette                        NaN                   NaN   \n",
       "Nikki Kate                       NaN                   NaN   \n",
       "messystation                     NaN                   NaN   \n",
       "barbacious                       NaN                   NaN   \n",
       "\n",
       "title         GREEK LEMON CHICKEN WITH POTATOES  \\\n",
       "Suzy Q Z                                    NaN   \n",
       "Annisette                                   NaN   \n",
       "Nikki Kate                                  NaN   \n",
       "messystation                                NaN   \n",
       "barbacious                                  NaN   \n",
       "\n",
       "title         CHILI-GARLIC MARINATED PORK CHOPS  ...  \\\n",
       "Suzy Q Z                                    NaN  ...   \n",
       "Annisette                                   NaN  ...   \n",
       "Nikki Kate                                  NaN  ...   \n",
       "messystation                                NaN  ...   \n",
       "barbacious                                  NaN  ...   \n",
       "\n",
       "title         ZUCCHINI MARINATA (MARINATED ZUCCHINI SALAD)  \\\n",
       "Suzy Q Z                                               NaN   \n",
       "Annisette                                              NaN   \n",
       "Nikki Kate                                             NaN   \n",
       "messystation                                           NaN   \n",
       "barbacious                                             NaN   \n",
       "\n",
       "title         ZIPPITY DOOO DAAAA ORZO SALAD!  \\\n",
       "Suzy Q Z                                 NaN   \n",
       "Annisette                                NaN   \n",
       "Nikki Kate                               NaN   \n",
       "messystation                             NaN   \n",
       "barbacious                               NaN   \n",
       "\n",
       "title         FAILPROOF FRENCH BREAD (BREAD MACHINE)  \\\n",
       "Suzy Q Z                                         NaN   \n",
       "Annisette                                        NaN   \n",
       "Nikki Kate                                       NaN   \n",
       "messystation                                     NaN   \n",
       "barbacious                                       NaN   \n",
       "\n",
       "title         KITTENCAL'S THICK AND RICH CREAMY TOMATO SOUP (LOW-FAT OPTION)  \\\n",
       "Suzy Q Z                                                    NaN                \n",
       "Annisette                                                   NaN                \n",
       "Nikki Kate                                                  NaN                \n",
       "messystation                                                NaN                \n",
       "barbacious                                                  NaN                \n",
       "\n",
       "title         BAKED ASPARAGUS  MARINATED POTATO AND GREEN BEAN SALAD  \\\n",
       "Suzy Q Z                  NaN                                    NaN   \n",
       "Annisette                 NaN                                    NaN   \n",
       "Nikki Kate                NaN                                    NaN   \n",
       "messystation              NaN                                    NaN   \n",
       "barbacious                NaN                                    NaN   \n",
       "\n",
       "title         COTTAGE CHEESE FRUIT SALAD  SUPER EASY NAAN BREAD  PESTO  \\\n",
       "Suzy Q Z                             NaN                    NaN    NaN   \n",
       "Annisette                            NaN                    NaN    NaN   \n",
       "Nikki Kate                           NaN                    NaN    NaN   \n",
       "messystation                         NaN                    NaN    NaN   \n",
       "barbacious                           NaN                    NaN    NaN   \n",
       "\n",
       "title         SOFTEST EVER BREAD MACHINE BREAD  \n",
       "Suzy Q Z                                   NaN  \n",
       "Annisette                                  NaN  \n",
       "Nikki Kate                                 NaN  \n",
       "messystation                               NaN  \n",
       "barbacious                                 NaN  \n",
       "\n",
       "[5 rows x 1229 columns]"
      ]
     },
     "execution_count": 128,
     "metadata": {},
     "output_type": "execute_result"
    }
   ],
   "source": [
    "# Remove all recipes that no one has no one voted\n",
    "useless_recipes = ratingMat.columns[ratingMat.isna().sum() == len(useful_users)]\n",
    "ratingMat = ratingMat.drop(columns = useless_recipes)\n",
    "ratingMat.tail()"
   ]
  },
  {
   "cell_type": "markdown",
   "metadata": {},
   "source": [
    "#### Complete rating matrix"
   ]
  },
  {
   "cell_type": "code",
   "execution_count": 134,
   "metadata": {},
   "outputs": [
    {
     "name": "stdout",
     "output_type": "stream",
     "text": [
      "0.0 -1.9865037497996523e-05\n",
      "0.1 -1.2693337976213812e-05\n",
      "0.2 -1.4162376735805327e-05\n",
      "0.3 -5.706460831868727e-06\n",
      "0.4 -3.012815160447282e-06\n",
      "0.5 -1.166606623625232e-05\n",
      "0.6 -6.085128296381111e-06\n",
      "0.7 -1.660555019835971e-05\n",
      "0.8 -4.7665844710614246e-05\n",
      "0.9 -3.839833140282381e-05\n"
     ]
    }
   ],
   "source": [
    "R = np.array(ratingMat)\n",
    "ratio = []\n",
    "for l in range(0,10):\n",
    "    clf = SoftImpute(J=10, thresh=1e-09,maxit=5000, lambda_=l/10.0)\n",
    "    clf.fit(R)\n",
    "    imputed = clf.predict(R)\n",
    "    print(l/10.0, clf.ratio)\n",
    "    ratio.append((l/10.0, clf.ratio))"
   ]
  },
  {
   "cell_type": "code",
   "execution_count": 155,
   "metadata": {},
   "outputs": [
    {
     "data": {
      "image/png": "[encoded data removed]",
      "text/plain": [
       "<Figure size 432x288 with 1 Axes>"
      ]
     },
     "metadata": {
      "needs_background": "light"
     },
     "output_type": "display_data"
    }
   ],
   "source": [
    "x = [ratio[i][0] for i in range(len(ratio))]\n",
    "y = [ratio[i][1] for i in range(len(ratio))]\n",
    "plt.plot(x, y, marker='x');"
   ]
  },
  {
   "cell_type": "code",
   "execution_count": 156,
   "metadata": {},
   "outputs": [],
   "source": [
    "clf = SoftImpute(J=10, thresh=1e-09,maxit=5000, lambda_=0.8)\n",
    "clf.fit(R)\n",
    "imputed = clf.predict(R)"
   ]
  },
  {
   "cell_type": "code",
   "execution_count": 159,
   "metadata": {},
   "outputs": [
    {
     "data": {
      "text/plain": [
       "array([[ 2.98971217, -0.11735371,  1.16578159, ..., -0.7594887 ,\n",
       "         2.26299627,  1.77671621],\n",
       "       [ 3.52572662,  4.17528427,  3.96052813, ...,  1.91988995,\n",
       "         5.30988015,  6.27824846],\n",
       "       [-2.63835721, -1.52999629, -0.56985115, ..., -0.39691947,\n",
       "        -1.34340817,  2.10130173],\n",
       "       ...,\n",
       "       [ 3.28125373,  0.11416052,  5.14667337, ..., -1.41226751,\n",
       "         5.18858585,  2.98551141],\n",
       "       [ 1.07335864,  0.41809687,  1.5823166 , ...,  0.57774811,\n",
       "         4.93542774,  5.88091965],\n",
       "       [ 1.0296528 , -2.1556794 , -0.07564959, ..., -0.05474352,\n",
       "         3.0426298 ,  3.10763695]])"
      ]
     },
     "execution_count": 159,
     "metadata": {},
     "output_type": "execute_result"
    }
   ],
   "source": [
    "imputed"
   ]
  },
  {
   "cell_type": "code",
   "execution_count": 210,
   "metadata": {},
   "outputs": [
    {
     "data": {
      "text/html": [
       "<div>\n",
       "<style scoped>\n",
       "    .dataframe tbody tr th:only-of-type {\n",
       "        vertical-align: middle;\n",
       "    }\n",
       "\n",
       "    .dataframe tbody tr th {\n",
       "        vertical-align: top;\n",
       "    }\n",
       "\n",
       "    .dataframe thead th {\n",
       "        text-align: right;\n",
       "    }\n",
       "</style>\n",
       "<table border=\"1\" class=\"dataframe\">\n",
       "  <thead>\n",
       "    <tr style=\"text-align: right;\">\n",
       "      <th>title</th>\n",
       "      <th>DRY RUB PORK RIBS</th>\n",
       "      <th>TUNA SANDWICH OR SALAD</th>\n",
       "      <th>EASY ASIAN BEEF &amp; NOODLES - WW RECIPE</th>\n",
       "      <th>SESAME PORK STIR FRY</th>\n",
       "      <th>THAI SHRIMP (CHILI) SOUP</th>\n",
       "      <th>CHEESY HAM AND POTATO SOUP</th>\n",
       "      <th>SWEET AND SOUR CHICKEN</th>\n",
       "      <th>PERFECT ROAST TURKEY</th>\n",
       "      <th>GREEK LEMON CHICKEN WITH POTATOES</th>\n",
       "      <th>CHILI-GARLIC MARINATED PORK CHOPS</th>\n",
       "      <th>...</th>\n",
       "      <th>ZUCCHINI MARINATA (MARINATED ZUCCHINI SALAD)</th>\n",
       "      <th>ZIPPITY DOOO DAAAA ORZO SALAD!</th>\n",
       "      <th>FAILPROOF FRENCH BREAD (BREAD MACHINE)</th>\n",
       "      <th>KITTENCAL'S THICK AND RICH CREAMY TOMATO SOUP (LOW-FAT OPTION)</th>\n",
       "      <th>BAKED ASPARAGUS</th>\n",
       "      <th>MARINATED POTATO AND GREEN BEAN SALAD</th>\n",
       "      <th>COTTAGE CHEESE FRUIT SALAD</th>\n",
       "      <th>SUPER EASY NAAN BREAD</th>\n",
       "      <th>PESTO</th>\n",
       "      <th>SOFTEST EVER BREAD MACHINE BREAD</th>\n",
       "    </tr>\n",
       "  </thead>\n",
       "  <tbody>\n",
       "    <tr>\n",
       "      <td>Suzy Q Z</td>\n",
       "      <td>-3.424694</td>\n",
       "      <td>-2.162273</td>\n",
       "      <td>-1.402905</td>\n",
       "      <td>-4.156174</td>\n",
       "      <td>-7.862364</td>\n",
       "      <td>5.287908</td>\n",
       "      <td>0.900784</td>\n",
       "      <td>-6.237063</td>\n",
       "      <td>-3.533761</td>\n",
       "      <td>-5.778974</td>\n",
       "      <td>...</td>\n",
       "      <td>-2.777159</td>\n",
       "      <td>-3.953703</td>\n",
       "      <td>2.161160</td>\n",
       "      <td>4.051720</td>\n",
       "      <td>-4.776030</td>\n",
       "      <td>-1.693458</td>\n",
       "      <td>-0.963523</td>\n",
       "      <td>-0.598332</td>\n",
       "      <td>-1.836697</td>\n",
       "      <td>0.879593</td>\n",
       "    </tr>\n",
       "    <tr>\n",
       "      <td>Annisette</td>\n",
       "      <td>5.108859</td>\n",
       "      <td>3.152194</td>\n",
       "      <td>4.567299</td>\n",
       "      <td>3.965821</td>\n",
       "      <td>3.396013</td>\n",
       "      <td>6.078400</td>\n",
       "      <td>5.139176</td>\n",
       "      <td>3.481773</td>\n",
       "      <td>4.586063</td>\n",
       "      <td>3.933732</td>\n",
       "      <td>...</td>\n",
       "      <td>5.473716</td>\n",
       "      <td>3.762838</td>\n",
       "      <td>5.323005</td>\n",
       "      <td>6.081752</td>\n",
       "      <td>3.540969</td>\n",
       "      <td>5.704439</td>\n",
       "      <td>4.971479</td>\n",
       "      <td>0.007893</td>\n",
       "      <td>5.407547</td>\n",
       "      <td>5.883470</td>\n",
       "    </tr>\n",
       "    <tr>\n",
       "      <td>Nikki Kate</td>\n",
       "      <td>3.281254</td>\n",
       "      <td>0.114161</td>\n",
       "      <td>5.146673</td>\n",
       "      <td>6.228779</td>\n",
       "      <td>1.227499</td>\n",
       "      <td>3.151220</td>\n",
       "      <td>3.049150</td>\n",
       "      <td>5.729837</td>\n",
       "      <td>5.782761</td>\n",
       "      <td>1.292218</td>\n",
       "      <td>...</td>\n",
       "      <td>2.173434</td>\n",
       "      <td>2.624719</td>\n",
       "      <td>3.062407</td>\n",
       "      <td>-0.610662</td>\n",
       "      <td>4.791097</td>\n",
       "      <td>2.862444</td>\n",
       "      <td>3.269159</td>\n",
       "      <td>-1.412268</td>\n",
       "      <td>5.188586</td>\n",
       "      <td>2.985511</td>\n",
       "    </tr>\n",
       "    <tr>\n",
       "      <td>messystation</td>\n",
       "      <td>1.073359</td>\n",
       "      <td>0.418097</td>\n",
       "      <td>1.582317</td>\n",
       "      <td>3.590422</td>\n",
       "      <td>1.082175</td>\n",
       "      <td>5.569804</td>\n",
       "      <td>2.312882</td>\n",
       "      <td>2.401123</td>\n",
       "      <td>2.302374</td>\n",
       "      <td>1.830144</td>\n",
       "      <td>...</td>\n",
       "      <td>1.992128</td>\n",
       "      <td>2.605992</td>\n",
       "      <td>3.707678</td>\n",
       "      <td>3.202597</td>\n",
       "      <td>0.774135</td>\n",
       "      <td>2.689643</td>\n",
       "      <td>3.919275</td>\n",
       "      <td>0.577748</td>\n",
       "      <td>4.935428</td>\n",
       "      <td>5.880920</td>\n",
       "    </tr>\n",
       "    <tr>\n",
       "      <td>barbacious</td>\n",
       "      <td>1.029653</td>\n",
       "      <td>-2.155679</td>\n",
       "      <td>-0.075650</td>\n",
       "      <td>-3.994183</td>\n",
       "      <td>-2.345232</td>\n",
       "      <td>4.568223</td>\n",
       "      <td>0.262151</td>\n",
       "      <td>-4.740596</td>\n",
       "      <td>2.109029</td>\n",
       "      <td>-1.749656</td>\n",
       "      <td>...</td>\n",
       "      <td>-1.853312</td>\n",
       "      <td>-1.177100</td>\n",
       "      <td>6.270765</td>\n",
       "      <td>3.358609</td>\n",
       "      <td>1.384212</td>\n",
       "      <td>-1.233416</td>\n",
       "      <td>-1.236327</td>\n",
       "      <td>-0.054744</td>\n",
       "      <td>3.042630</td>\n",
       "      <td>3.107637</td>\n",
       "    </tr>\n",
       "  </tbody>\n",
       "</table>\n",
       "<p>5 rows × 1229 columns</p>\n",
       "</div>"
      ],
      "text/plain": [
       "title         DRY RUB PORK RIBS  TUNA SANDWICH OR SALAD  \\\n",
       "Suzy Q Z              -3.424694               -2.162273   \n",
       "Annisette              5.108859                3.152194   \n",
       "Nikki Kate             3.281254                0.114161   \n",
       "messystation           1.073359                0.418097   \n",
       "barbacious             1.029653               -2.155679   \n",
       "\n",
       "title         EASY ASIAN BEEF & NOODLES - WW RECIPE  SESAME PORK STIR FRY  \\\n",
       "Suzy Q Z                                  -1.402905             -4.156174   \n",
       "Annisette                                  4.567299              3.965821   \n",
       "Nikki Kate                                 5.146673              6.228779   \n",
       "messystation                               1.582317              3.590422   \n",
       "barbacious                                -0.075650             -3.994183   \n",
       "\n",
       "title         THAI SHRIMP (CHILI) SOUP  CHEESY HAM AND POTATO SOUP  \\\n",
       "Suzy Q Z                     -7.862364                    5.287908   \n",
       "Annisette                     3.396013                    6.078400   \n",
       "Nikki Kate                    1.227499                    3.151220   \n",
       "messystation                  1.082175                    5.569804   \n",
       "barbacious                   -2.345232                    4.568223   \n",
       "\n",
       "title         SWEET AND SOUR CHICKEN  PERFECT ROAST TURKEY  \\\n",
       "Suzy Q Z                    0.900784             -6.237063   \n",
       "Annisette                   5.139176              3.481773   \n",
       "Nikki Kate                  3.049150              5.729837   \n",
       "messystation                2.312882              2.401123   \n",
       "barbacious                  0.262151             -4.740596   \n",
       "\n",
       "title         GREEK LEMON CHICKEN WITH POTATOES  \\\n",
       "Suzy Q Z                              -3.533761   \n",
       "Annisette                              4.586063   \n",
       "Nikki Kate                             5.782761   \n",
       "messystation                           2.302374   \n",
       "barbacious                             2.109029   \n",
       "\n",
       "title         CHILI-GARLIC MARINATED PORK CHOPS  ...  \\\n",
       "Suzy Q Z                              -5.778974  ...   \n",
       "Annisette                              3.933732  ...   \n",
       "Nikki Kate                             1.292218  ...   \n",
       "messystation                           1.830144  ...   \n",
       "barbacious                            -1.749656  ...   \n",
       "\n",
       "title         ZUCCHINI MARINATA (MARINATED ZUCCHINI SALAD)  \\\n",
       "Suzy Q Z                                         -2.777159   \n",
       "Annisette                                         5.473716   \n",
       "Nikki Kate                                        2.173434   \n",
       "messystation                                      1.992128   \n",
       "barbacious                                       -1.853312   \n",
       "\n",
       "title         ZIPPITY DOOO DAAAA ORZO SALAD!  \\\n",
       "Suzy Q Z                           -3.953703   \n",
       "Annisette                           3.762838   \n",
       "Nikki Kate                          2.624719   \n",
       "messystation                        2.605992   \n",
       "barbacious                         -1.177100   \n",
       "\n",
       "title         FAILPROOF FRENCH BREAD (BREAD MACHINE)  \\\n",
       "Suzy Q Z                                    2.161160   \n",
       "Annisette                                   5.323005   \n",
       "Nikki Kate                                  3.062407   \n",
       "messystation                                3.707678   \n",
       "barbacious                                  6.270765   \n",
       "\n",
       "title         KITTENCAL'S THICK AND RICH CREAMY TOMATO SOUP (LOW-FAT OPTION)  \\\n",
       "Suzy Q Z                                               4.051720                \n",
       "Annisette                                              6.081752                \n",
       "Nikki Kate                                            -0.610662                \n",
       "messystation                                           3.202597                \n",
       "barbacious                                             3.358609                \n",
       "\n",
       "title         BAKED ASPARAGUS  MARINATED POTATO AND GREEN BEAN SALAD  \\\n",
       "Suzy Q Z            -4.776030                              -1.693458   \n",
       "Annisette            3.540969                               5.704439   \n",
       "Nikki Kate           4.791097                               2.862444   \n",
       "messystation         0.774135                               2.689643   \n",
       "barbacious           1.384212                              -1.233416   \n",
       "\n",
       "title         COTTAGE CHEESE FRUIT SALAD  SUPER EASY NAAN BREAD     PESTO  \\\n",
       "Suzy Q Z                       -0.963523              -0.598332 -1.836697   \n",
       "Annisette                       4.971479               0.007893  5.407547   \n",
       "Nikki Kate                      3.269159              -1.412268  5.188586   \n",
       "messystation                    3.919275               0.577748  4.935428   \n",
       "barbacious                     -1.236327              -0.054744  3.042630   \n",
       "\n",
       "title         SOFTEST EVER BREAD MACHINE BREAD  \n",
       "Suzy Q Z                              0.879593  \n",
       "Annisette                             5.883470  \n",
       "Nikki Kate                            2.985511  \n",
       "messystation                          5.880920  \n",
       "barbacious                            3.107637  \n",
       "\n",
       "[5 rows x 1229 columns]"
      ]
     },
     "execution_count": 210,
     "metadata": {},
     "output_type": "execute_result"
    }
   ],
   "source": [
    "recipes = ratingMat.columns\n",
    "users = ratingMat.index\n",
    "completeRatingMat = pd.DataFrame(imputed, columns = recipes, index = users)\n",
    "completeRatingMat.tail()"
   ]
  },
  {
   "cell_type": "markdown",
   "metadata": {},
   "source": [
    "#### 5. Retain the recipes that exist in the final table"
   ]
  },
  {
   "cell_type": "code",
   "execution_count": 190,
   "metadata": {},
   "outputs": [],
   "source": [
    "valid_recipes = ratingMat.columns"
   ]
  },
  {
   "cell_type": "code",
   "execution_count": 212,
   "metadata": {},
   "outputs": [],
   "source": [
    "NutritionMat = nutri_matrix[nutri_matrix.index.isin(valid_recipes)]\n",
    "TimeMat = time_matrix[time_matrix.index.isin(valid_recipes)]\n",
    "IngredientMat = ingredMat[ingredMat.index.isin(valid_recipes)]\n",
    "RatingMat = completeRatingMat"
   ]
  },
  {
   "cell_type": "code",
   "execution_count": 213,
   "metadata": {},
   "outputs": [],
   "source": [
    "# backup\n",
    "NutritionMat.to_csv('backup/nutriMatrix_food.com.csv')\n",
    "TimeMat.to_csv('backup/timeMatrix_food.com.csv')\n",
    "IngredientMat.to_csv('backup/ingredMatrix_food.com.csv')\n",
    "ratingMat.to_csv('backup/ratingMatrix_food.com.csv')\n",
    "completeRatingMat.to_csv('backup/compltetRatingMatrix_food.com.csv')"
   ]
  },
  {
   "cell_type": "code",
   "execution_count": 214,
   "metadata": {},
   "outputs": [],
   "source": [
    "# Names of all users, recipes, ingredients, and nutritions\n",
    "users = RatingMat.index\n",
    "recipes = RatingMat.columns\n",
    "ingredients = IngredientMat.columns\n",
    "nutritions = NutritionMat.columns"
   ]
  },
  {
   "cell_type": "code",
   "execution_count": null,
   "metadata": {},
   "outputs": [],
   "source": []
  },
  {
   "cell_type": "markdown",
   "metadata": {},
   "source": [
    "### Parameters"
   ]
  },
  {
   "cell_type": "code",
   "execution_count": 220,
   "metadata": {},
   "outputs": [
    {
     "data": {
      "text/html": [
       "<div>\n",
       "<style scoped>\n",
       "    .dataframe tbody tr th:only-of-type {\n",
       "        vertical-align: middle;\n",
       "    }\n",
       "\n",
       "    .dataframe tbody tr th {\n",
       "        vertical-align: top;\n",
       "    }\n",
       "\n",
       "    .dataframe thead th {\n",
       "        text-align: right;\n",
       "    }\n",
       "</style>\n",
       "<table border=\"1\" class=\"dataframe\">\n",
       "  <thead>\n",
       "    <tr style=\"text-align: right;\">\n",
       "      <th></th>\n",
       "      <th>Calories</th>\n",
       "      <th>Fat</th>\n",
       "      <th>Cholesterol</th>\n",
       "      <th>Sodium</th>\n",
       "      <th>Carbohydrate</th>\n",
       "      <th>Protein</th>\n",
       "    </tr>\n",
       "    <tr>\n",
       "      <th>title</th>\n",
       "      <th></th>\n",
       "      <th></th>\n",
       "      <th></th>\n",
       "      <th></th>\n",
       "      <th></th>\n",
       "      <th></th>\n",
       "    </tr>\n",
       "  </thead>\n",
       "  <tbody>\n",
       "    <tr>\n",
       "      <td>MARINATED POTATO AND GREEN BEAN SALAD</td>\n",
       "      <td>5145.0</td>\n",
       "      <td>366.0</td>\n",
       "      <td>0.0</td>\n",
       "      <td>6221.0</td>\n",
       "      <td>43.0</td>\n",
       "      <td>64.0</td>\n",
       "    </tr>\n",
       "    <tr>\n",
       "      <td>COTTAGE CHEESE FRUIT SALAD</td>\n",
       "      <td>2166.0</td>\n",
       "      <td>96.0</td>\n",
       "      <td>96.0</td>\n",
       "      <td>2655.0</td>\n",
       "      <td>261.0</td>\n",
       "      <td>77.0</td>\n",
       "    </tr>\n",
       "    <tr>\n",
       "      <td>SUPER EASY NAAN BREAD</td>\n",
       "      <td>180.0</td>\n",
       "      <td>5.0</td>\n",
       "      <td>0.0</td>\n",
       "      <td>2935.0</td>\n",
       "      <td>378.0</td>\n",
       "      <td>52.0</td>\n",
       "    </tr>\n",
       "    <tr>\n",
       "      <td>PESTO</td>\n",
       "      <td>1376.0</td>\n",
       "      <td>108.0</td>\n",
       "      <td>73.0</td>\n",
       "      <td>1305.0</td>\n",
       "      <td>62.0</td>\n",
       "      <td>52.0</td>\n",
       "    </tr>\n",
       "    <tr>\n",
       "      <td>SOFTEST EVER BREAD MACHINE BREAD</td>\n",
       "      <td>19673.0</td>\n",
       "      <td>587.0</td>\n",
       "      <td>0.0</td>\n",
       "      <td>2344.0</td>\n",
       "      <td>3143.0</td>\n",
       "      <td>416.0</td>\n",
       "    </tr>\n",
       "  </tbody>\n",
       "</table>\n",
       "</div>"
      ],
      "text/plain": [
       "                                       Calories    Fat  Cholesterol  Sodium  \\\n",
       "title                                                                         \n",
       "MARINATED POTATO AND GREEN BEAN SALAD    5145.0  366.0          0.0  6221.0   \n",
       "COTTAGE CHEESE FRUIT SALAD               2166.0   96.0         96.0  2655.0   \n",
       "SUPER EASY NAAN BREAD                     180.0    5.0          0.0  2935.0   \n",
       "PESTO                                    1376.0  108.0         73.0  1305.0   \n",
       "SOFTEST EVER BREAD MACHINE BREAD        19673.0  587.0          0.0  2344.0   \n",
       "\n",
       "                                       Carbohydrate  Protein  \n",
       "title                                                         \n",
       "MARINATED POTATO AND GREEN BEAN SALAD          43.0     64.0  \n",
       "COTTAGE CHEESE FRUIT SALAD                    261.0     77.0  \n",
       "SUPER EASY NAAN BREAD                         378.0     52.0  \n",
       "PESTO                                          62.0     52.0  \n",
       "SOFTEST EVER BREAD MACHINE BREAD             3143.0    416.0  "
      ]
     },
     "execution_count": 220,
     "metadata": {},
     "output_type": "execute_result"
    }
   ],
   "source": [
    "\n",
    "nutri_matrix.tail()"
   ]
  },
  {
   "cell_type": "code",
   "execution_count": 236,
   "metadata": {},
   "outputs": [],
   "source": [
    "data_param = {\n",
    "    \"NumberOfRecipes\": len(recipes),\n",
    "    \"AvailableTime\":[[60,30,0,30,60],[60,0,60,60,0]],\n",
    "    \"Ratings\":RatingMat.iloc[0:2, :].values.tolist(),\n",
    "    \"NutritionMatrix\":[list(NutritionMat.iloc[r]) for r in range(len(recipes))],\n",
    "    \"CookingTime\":TimeMat.total_time.values,\n",
    "    \"NutritionBounds\": [\n",
    "        [[2000,4000],[20,200],[0,200],[2000,4000],[500,3000],[100,600]],\n",
    "        [[2000,4000],[20,200],[0,200],[2000,4000],[500,3000],[100,600]]],\n",
    "    \"DishesPerDay\":[1,2],\n",
    "    \"MaxDishesMadePerDay\":3,\n",
    "    \"RepeatedRecipe\": 2,\n",
    "    \"IngredientMatrix\":[list(IngredientMat.iloc[r]) for r in range(len(recipes))],\n",
    "    \"IngredientFondness\": [[3 for i in range(len(ingredients))],\n",
    "                            [3 for i in range(len(ingredients))]],\n",
    "    \"TotalDays\":5\n",
    "}"
   ]
  },
  {
   "cell_type": "markdown",
   "metadata": {},
   "source": [
    "### Model Class"
   ]
  },
  {
   "cell_type": "code",
   "execution_count": 218,
   "metadata": {},
   "outputs": [],
   "source": [
    "class modelClass():\n",
    "    \n",
    "    # decorator\n",
    "    def _timer(func):\n",
    "        import time\n",
    "        def wrapper(*args, **kwargs):\n",
    "            t1 = time.perf_counter()\n",
    "            result = func( *args, **kwargs)\n",
    "            print(func.__name__,\" executes\", round(time.perf_counter() - t1,3),'s')\n",
    "            return result\n",
    "        return wrapper\n",
    "    \n",
    "    def __init__(self, data, solver = \"cplex\"):\n",
    "        \n",
    "        # public abstract model\n",
    "        self.model = None\n",
    "        \n",
    "        # public model instance\n",
    "        self.instance = None\n",
    "        \n",
    "        # public data\n",
    "        self.d = data\n",
    "        \n",
    "        # public optimal solutions \n",
    "        self.xs = []\n",
    "        self.ys = []\n",
    "        \n",
    "        # public results\n",
    "        self.results = None\n",
    "        \n",
    "        # private classified optimal solutions (for solving alternative optima) \n",
    "        self.__x0 = []\n",
    "        self.__x1 = []\n",
    "        self.__y0 = []\n",
    "        self.__y1 = []\n",
    "        \n",
    "        # private solver\n",
    "        self.__solver = solver\n",
    "        \n",
    "        # private helper variables\n",
    "        self.__K = self.d[\"NumberOfRecipes\"]\n",
    "        self.__I = len(self.d[\"IngredientMatrix\"][0])\n",
    "        self.__N = len(self.d[\"NutritionMatrix\"][0])\n",
    "        self.__dd = data[\"TotalDays\"]\n",
    "        self.__counter = 0\n",
    "        \n",
    "        \n",
    "        # build the basic model when initialized\n",
    "        self.BuildBasicModel()\n",
    "        \n",
    "    @_timer    \n",
    "    def BuildBasicModel(self):\n",
    "        # length of recipes\n",
    "        K = self.__K\n",
    "        \n",
    "        # length of ingredients\n",
    "        I = self.__I\n",
    "        \n",
    "        # length of nutritions\n",
    "        N = self.__N \n",
    "        \n",
    "        # total amount of days\n",
    "        dd = self.__dd \n",
    "        \n",
    "        # data\n",
    "        data = self.d\n",
    "        \n",
    "        # create abstract model\n",
    "        m = AbstractModel()\n",
    "        \n",
    "        # dummy variables\n",
    "        m.p = range(2)\n",
    "        m.d = range(dd)\n",
    "        m.k = range(K)        \n",
    "\n",
    "        # decision variables\n",
    "        m.x = Var(m.d, m.k, domain = Binary)\n",
    "        m.y = Var(m.p, m.d, m.k, domain = Binary)\n",
    "\n",
    "\n",
    "        # daily number of meals constraits \n",
    "        m.MinMealPerDay = Constraint(m.d, rule = lambda m, d: np.sum([m.x[d,k] for k in range(K)]) >= data[\"DishesPerDay\"][0])\n",
    "        m.MaxMealPerDay = Constraint(m.d, rule = lambda m, d: np.sum([m.x[d,k] for k in range(K)]) <= data[\"DishesPerDay\"][1])\n",
    "\n",
    "        # nutrition constraints\n",
    "        m.NutritionLowerBounds = Constraint(range(N), m.p, m.d, \n",
    "                            rule = lambda m, n, p, d: np.sum([m.x[d,k]*data[\"NutritionMatrix\"][k][n] for k in range(K)]) \n",
    "                                            >= data[\"NutritionBounds\"][p][n][0])\n",
    "        m.NutritionUpperBounds = Constraint(range(N), m.p, m.d, \n",
    "                            rule = lambda m, n, p, d: np.sum([m.x[d,k]*data[\"NutritionMatrix\"][k][n] for k in range(K)]) \n",
    "                                            <= data[\"NutritionBounds\"][p][n][1])\n",
    "\n",
    "        # total available time constraints\n",
    "        m.TotalAvailableTime = Constraint(m.p, m.d, \n",
    "                            rule = lambda m, p, d: np.sum([m.y[p,d,k]*data[\"CookingTime\"][k] for k in range(K)]) \n",
    "                                          <= data[\"AvailableTime\"][p][d])\n",
    "\n",
    "        # number of made dishes per day\n",
    "        m.MadeDishesLowerBound = Constraint(m.p, m.d, rule = lambda m, p, d: np.sum([m.y[p,d,k] for k in range(K)]) \n",
    "                                            <= data[\"MaxDishesMadePerDay\"])\n",
    "\n",
    "        # two people cannot cook the same dish\n",
    "        m.NoOverlap = Constraint(\n",
    "            rule = lambda m: np.sum([[m.y[0,d,k]*m.y[1,d,k] for d in range(dd)] for k in range(K)]) <= 0)\n",
    "\n",
    "        # each recipe should not repeat # times\n",
    "        m.Repetition = Constraint(m.k,\n",
    "            rule = lambda m, k: np.sum([m.x[d,k] for d in range(dd)]) <= data[\"RepeatedRecipe\"])\n",
    "        \n",
    "        \n",
    "        # y = x\n",
    "        # m.Equality = Constraint(rule = lambda m: np.sum([[(m.y[0,d,k] + m.y[1,d,k]) for d in range(dd)]for k in range(K)])\n",
    "        #                       - np.sum([[m.x[d,k] for d in range(dd)]for k in range(K)]) == 0)\n",
    "\n",
    "        # schedual constraints\n",
    "        # m.LastDay = Constraint(\n",
    "        #     rule = lambda m: np.sum([[((m.y[0,d,k] + m.y[1,d,k]) - m.x[d,k]) * m.x[d,k] for d in range(dd)]for k in range(K)]) >= -0.5)\n",
    "\n",
    "        m.Recipe = Constraint(m.k,\n",
    "            rule = lambda m, k: np.sum([(5-d) * (m.y[0,d,k] + m.y[1,d,k] - m.x[d,k]) for d in range(dd)]) >= 0)\n",
    "\n",
    "        m.Equality = Constraint(m.k,\n",
    "            rule = lambda m, k: np.sum([(m.y[0,d,k] + m.y[1,d,k] - m.x[d,k]) for d in range(dd)]) == 0)\n",
    "\n",
    "        #objective function\n",
    "        def obj_func(m):            \n",
    "            expr = np.sum([[(data[\"Ratings\"][0][k] + data[\"Ratings\"][1][k])*m.x[d,k] for d in range(dd)] for k in range(K)])\n",
    "            - np.sum([[[(dd-2*d)*(data[\"AvailableTime\"][p][d] - data[\"CookingTime\"][k]*m.y[p,d,k]) for p in range(2)] for d in range(dd)] for k in range(K)]) \n",
    "            + np.sum([[[[(data[\"IngredientFondness\"][p][i] - data[\"IngredientMatrix\"][k][i])*m.x[d,k] for i in range(I)] \n",
    "                        for p in range(2)] for d in range(dd)] for k in range(K)])\n",
    "            return expr\n",
    "        m.Obj = Objective(rule = obj_func,sense = maximize)\n",
    "        \n",
    "        # restore the model \n",
    "        self.model = m\n",
    "    \n",
    "    @_timer    \n",
    "    def SolveForAlternative(self):\n",
    "        # If the model does not exists\n",
    "        if not self.model:\n",
    "            print(\"The model has not been solved yet.\")\n",
    "            return\n",
    "        # If the model is not feasible\n",
    "        if not self.xs:\n",
    "            print(\"The model is not feasible\")\n",
    "            return\n",
    "        \n",
    "        len_x1 = len(self.__x1)\n",
    "        self.model.add_component(\"Additional\" + str(self.__counter),\\\n",
    "           Constraint(rule = lambda m: np.sum([m.x[l[0],l[1]] for l in self.__x1]) \n",
    "                      - np.sum([m.x[o[0],o[0]] for o in self.__x0]) <= len_x1 - 1))\n",
    "        self.__counter += 1\n",
    "        self.Solve()\n",
    "    \n",
    "    @_timer    \n",
    "    def Solve(self, verbose = False):\n",
    "        # instantiate the model\n",
    "        self.instance = self.model.create_instance()\n",
    "        \n",
    "        # initialization is really important when calculations are needed in the constraints\n",
    "        for p in range(2):\n",
    "            for d in range(self.__dd):\n",
    "                for k in range(self.__K):\n",
    "                    self.instance.y[p,d,k] = 0\n",
    "        for d in range(self.__dd):\n",
    "            for k in range(self.__K):\n",
    "                self.instance.x[d,k] = 0                \n",
    "        \n",
    "        #solve\n",
    "        cpx = SolverFactory(self.__solver)\n",
    "        self.results = cpx.solve(self.instance)\n",
    "        if verbose:\n",
    "            self.instance.display()\n",
    "        \n",
    "        #restore solution\n",
    "        self.xs = list(self.getXs())\n",
    "        self.ys = list(self.getYs())\n",
    "        \n",
    "        if self.xs:\n",
    "            self.__x0 = list(self.getXs(0))\n",
    "            self.__x1 = self.xs\n",
    "            self.__y0 = list(self.getYs(0))\n",
    "            self.__y1 = self.ys\n",
    "            self.VisualizeY()\n",
    "            self.VisualizeX()        \n",
    "        else:\n",
    "            print(\"The model is not feasible.\")\n",
    "        \n",
    "       \n",
    "    def getYs(self, v = 1):\n",
    "        for i in range(2):\n",
    "            for j in range(self.__dd):\n",
    "                for k in range(self.__K):\n",
    "                    if (abs(self.instance.y[i,j,k]() - v) <= 0.01):\n",
    "                        yield (i,j,k)\n",
    "                         \n",
    "    def getXs(self, v = 1):\n",
    "        for j in range(self.__dd):\n",
    "            for k in range(self.__K):\n",
    "                if (abs(self.instance.x[j,k]() - v) <= 0.01):\n",
    "                    yield (j,k)\n",
    "                       \n",
    "    def VisualizeY(self):\n",
    "        minPerDay =2.5*60\n",
    "        schedule = pd.DataFrame(self.ys)\n",
    "        PERSON = range(2)\n",
    "        makespan = minPerDay\n",
    "\n",
    "        bar_style = {'alpha':1.0, 'lw':25, 'solid_capstyle':'butt'}\n",
    "        text_style = {'color':'black', 'weight':'bold', 'ha':'center', 'va':'center'}\n",
    "        colors = mpl.cm.Dark2.colors\n",
    "\n",
    "        fig, ax = plt.subplots(1,1, figsize=(13, 3))\n",
    "\n",
    "        xs = xf = 0\n",
    "        pre_person = 0\n",
    "        pre_day = -1\n",
    "        for r in self.ys:\n",
    "            person = r[0] + 1\n",
    "            day = r[1]\n",
    "            recipe = r[2]\n",
    "            if pre_person != person:\n",
    "                xf = 0\n",
    "            pre_person = person\n",
    "\n",
    "            if pre_day != day:\n",
    "                xf = day*minPerDay\n",
    "            pre_day = day\n",
    "            xs = xf \n",
    "            xf = xs + self.d[\"CookingTime\"][recipe]\n",
    "            ax.plot([xs, xf], [person]*2, c=colors[recipe%7], **bar_style)\n",
    "            ax.text((xs + xf)/2, person, str(recipe), **text_style)\n",
    "\n",
    "        ax.set_title('Cooking Schedule')\n",
    "        ax.set_ylabel('Person')\n",
    "\n",
    "        ax.set_ylim(0.5, 2.5)\n",
    "        ax.set_yticks(range(1, 1 + 2))\n",
    "        ax.set_yticklabels(range(2))\n",
    "        ax.set_xlabel('Time (min)')\n",
    "        ax.grid(True)\n",
    "        for day in range(5):\n",
    "            ax.plot([day * minPerDay]*2, ax.get_ylim(), 'r--')\n",
    "\n",
    "        fig.tight_layout()\n",
    "        plt.show()\n",
    "           \n",
    "    def VisualizeX(self):\n",
    "        minPerDay =2.5*60\n",
    "        schedule = pd.DataFrame(self.xs)\n",
    "        makespan = minPerDay\n",
    "\n",
    "        bar_style = {'alpha':1.0, 'lw':25, 'solid_capstyle':'butt'}\n",
    "        text_style = {'color':'black', 'weight':'bold', 'ha':'center', 'va':'center'}\n",
    "        colors = mpl.cm.Dark2.colors\n",
    "\n",
    "        fig, ax = plt.subplots(1,1, figsize=(13, 3))\n",
    "\n",
    "        xs = xf = 0\n",
    "        pre_day = -1\n",
    "        for r in self.xs:\n",
    "            day = r[0]\n",
    "            recipe = r[1]        \n",
    "            if pre_day != day:\n",
    "                xf = day*minPerDay\n",
    "            pre_day = day\n",
    "            xs = xf \n",
    "            xf = xs + 30\n",
    "            ax.plot([xs, xf], [1]*2, c=colors[recipe%7], **bar_style)\n",
    "            ax.text((xs + xf)/2, 1, str(recipe), **text_style)\n",
    "\n",
    "        ax.set_title('Recommended Recipes for each day')\n",
    "        ax.set_ylabel('Recipes')\n",
    "\n",
    "        ax.set_ylim(0.5, 1.5)\n",
    "        ax.set_yticks(range(1))\n",
    "        ax.set_yticklabels(range(2))\n",
    "        ax.set_xlabel('Time (min)')\n",
    "        ax.grid(True)\n",
    "        for day in range(5):\n",
    "            ax.plot([day * minPerDay]*2, ax.get_ylim(), 'r--')\n",
    "\n",
    "        fig.tight_layout()\n",
    "        plt.show()\n",
    "        "
   ]
  },
  {
   "cell_type": "code",
   "execution_count": 223,
   "metadata": {
    "scrolled": false
   },
   "outputs": [
    {
     "name": "stdout",
     "output_type": "stream",
     "text": [
      "Solution1:\n",
      "BuildBasicModel  executes 0.001 s\n"
     ]
    },
    {
     "data": {
      "image/png": "[encoded data removed]",
      "text/plain": [
       "<Figure size 936x216 with 1 Axes>"
      ]
     },
     "metadata": {
      "needs_background": "light"
     },
     "output_type": "display_data"
    },
    {
     "data": {
      "image/png": "[encoded data removed]",
      "text/plain": [
       "<Figure size 936x216 with 1 Axes>"
      ]
     },
     "metadata": {
      "needs_background": "light"
     },
     "output_type": "display_data"
    },
    {
     "name": "stdout",
     "output_type": "stream",
     "text": [
      "Solve  executes 20.051 s\n",
      "Ys: [(0, 0, 907), (0, 0, 909), (0, 1, 763), (0, 1, 778), (0, 4, 909), (1, 0, 763), (1, 0, 972), (1, 2, 907), (1, 3, 913), (1, 3, 972)]\n",
      "Xs: [(0, 763), (0, 907), (1, 909), (1, 972), (2, 763), (2, 907), (3, 778), (3, 913), (4, 909), (4, 972)]\n",
      "----------------------------------------------------------------------------------------------------\n",
      "Solution2 :\n"
     ]
    },
    {
     "data": {
      "image/png": "[encoded data removed]",
      "text/plain": [
       "<Figure size 936x216 with 1 Axes>"
      ]
     },
     "metadata": {
      "needs_background": "light"
     },
     "output_type": "display_data"
    },
    {
     "data": {
      "image/png": "[encoded data removed]",
      "text/plain": [
       "<Figure size 936x216 with 1 Axes>"
      ]
     },
     "metadata": {
      "needs_background": "light"
     },
     "output_type": "display_data"
    },
    {
     "name": "stdout",
     "output_type": "stream",
     "text": [
      "Solve  executes 20.712 s\n",
      "SolveForAlternative  executes 20.712 s\n",
      "Ys: [(0, 0, 763), (0, 0, 778), (0, 0, 913), (0, 1, 763), (0, 1, 972), (1, 0, 907), (1, 0, 909), (1, 2, 909), (1, 2, 972), (1, 3, 907)]\n",
      "Xs: [(0, 778), (0, 913), (1, 909), (1, 972), (2, 763), (2, 907), (3, 763), (3, 907), (4, 909), (4, 972)]\n",
      "----------------------------------------------------------------------------------------------------\n",
      "Solution3 :\n"
     ]
    },
    {
     "data": {
      "image/png": "[encoded data removed]",
      "text/plain": [
       "<Figure size 936x216 with 1 Axes>"
      ]
     },
     "metadata": {
      "needs_background": "light"
     },
     "output_type": "display_data"
    },
    {
     "data": {
      "image/png": "[encoded data removed]",
      "text/plain": [
       "<Figure size 936x216 with 1 Axes>"
      ]
     },
     "metadata": {
      "needs_background": "light"
     },
     "output_type": "display_data"
    },
    {
     "name": "stdout",
     "output_type": "stream",
     "text": [
      "Solve  executes 20.5 s\n",
      "SolveForAlternative  executes 20.501 s\n",
      "Ys: [(0, 0, 778), (0, 0, 907), (0, 1, 763), (0, 1, 909), (0, 4, 909), (0, 4, 972), (1, 0, 763), (1, 0, 913), (1, 2, 907), (1, 2, 972)]\n",
      "Xs: [(0, 778), (0, 913), (1, 763), (1, 907), (2, 763), (2, 907), (3, 909), (3, 972), (4, 909), (4, 972)]\n",
      "----------------------------------------------------------------------------------------------------\n",
      "Solution4 :\n"
     ]
    },
    {
     "data": {
      "image/png": "[encoded data removed]",
      "text/plain": [
       "<Figure size 936x216 with 1 Axes>"
      ]
     },
     "metadata": {
      "needs_background": "light"
     },
     "output_type": "display_data"
    },
    {
     "data": {
      "image/png": "[encoded data removed]",
      "text/plain": [
       "<Figure size 936x216 with 1 Axes>"
      ]
     },
     "metadata": {
      "needs_background": "light"
     },
     "output_type": "display_data"
    },
    {
     "name": "stdout",
     "output_type": "stream",
     "text": [
      "Solve  executes 20.492 s\n",
      "SolveForAlternative  executes 20.493 s\n",
      "Ys: [(0, 0, 907), (0, 0, 972), (0, 1, 778), (0, 1, 909), (0, 3, 907), (0, 4, 909), (0, 4, 972), (1, 0, 763), (1, 0, 913), (1, 3, 763)]\n",
      "Xs: [(0, 763), (0, 907), (1, 778), (1, 913), (2, 909), (2, 972), (3, 763), (3, 907), (4, 909), (4, 972)]\n",
      "----------------------------------------------------------------------------------------------------\n",
      "Solution5 :\n"
     ]
    },
    {
     "data": {
      "image/png": "[encoded data removed]",
      "text/plain": [
       "<Figure size 936x216 with 1 Axes>"
      ]
     },
     "metadata": {
      "needs_background": "light"
     },
     "output_type": "display_data"
    },
    {
     "data": {
      "image/png": "[encoded data removed]",
      "text/plain": [
       "<Figure size 936x216 with 1 Axes>"
      ]
     },
     "metadata": {
      "needs_background": "light"
     },
     "output_type": "display_data"
    },
    {
     "name": "stdout",
     "output_type": "stream",
     "text": [
      "Solve  executes 20.335 s\n",
      "SolveForAlternative  executes 20.335 s\n",
      "Ys: [(0, 0, 909), (0, 0, 913), (0, 1, 763), (0, 1, 909), (0, 4, 763), (1, 0, 778), (1, 0, 907), (1, 0, 972), (1, 2, 907), (1, 3, 972)]\n",
      "Xs: [(0, 778), (0, 913), (1, 909), (1, 972), (2, 763), (2, 907), (3, 909), (3, 972), (4, 763), (4, 907)]\n",
      "----------------------------------------------------------------------------------------------------\n",
      "Solution6 :\n"
     ]
    },
    {
     "data": {
      "image/png": "[encoded data removed]",
      "text/plain": [
       "<Figure size 936x216 with 1 Axes>"
      ]
     },
     "metadata": {
      "needs_background": "light"
     },
     "output_type": "display_data"
    },
    {
     "data": {
      "image/png": "[encoded data removed]",
      "text/plain": [
       "<Figure size 936x216 with 1 Axes>"
      ]
     },
     "metadata": {
      "needs_background": "light"
     },
     "output_type": "display_data"
    },
    {
     "name": "stdout",
     "output_type": "stream",
     "text": [
      "Solve  executes 20.737 s\n",
      "SolveForAlternative  executes 20.738 s\n",
      "Ys: [(0, 0, 778), (0, 0, 909), (0, 1, 763), (0, 1, 909), (0, 4, 907), (1, 0, 763), (1, 0, 907), (1, 0, 972), (1, 2, 913), (1, 2, 972)]\n",
      "Xs: [(0, 909), (0, 972), (1, 763), (1, 907), (2, 909), (2, 972), (3, 778), (3, 913), (4, 763), (4, 907)]\n",
      "----------------------------------------------------------------------------------------------------\n",
      "Solution7 :\n"
     ]
    },
    {
     "data": {
      "image/png": "[encoded data removed]",
      "text/plain": [
       "<Figure size 936x216 with 1 Axes>"
      ]
     },
     "metadata": {
      "needs_background": "light"
     },
     "output_type": "display_data"
    },
    {
     "data": {
      "image/png": "[encoded data removed]",
      "text/plain": [
       "<Figure size 936x216 with 1 Axes>"
      ]
     },
     "metadata": {
      "needs_background": "light"
     },
     "output_type": "display_data"
    },
    {
     "name": "stdout",
     "output_type": "stream",
     "text": [
      "Solve  executes 20.345 s\n",
      "SolveForAlternative  executes 20.345 s\n",
      "Ys: [(0, 0, 763), (0, 0, 907), (0, 0, 909), (0, 1, 763), (0, 1, 972), (0, 3, 907), (0, 4, 909), (1, 0, 778), (1, 0, 972), (1, 3, 913)]\n",
      "Xs: [(0, 909), (0, 972), (1, 763), (1, 907), (2, 763), (2, 907), (3, 778), (3, 913), (4, 909), (4, 972)]\n",
      "----------------------------------------------------------------------------------------------------\n",
      "Solution8 :\n"
     ]
    },
    {
     "data": {
      "image/png": "[encoded data removed]",
      "text/plain": [
       "<Figure size 936x216 with 1 Axes>"
      ]
     },
     "metadata": {
      "needs_background": "light"
     },
     "output_type": "display_data"
    },
    {
     "data": {
      "image/png": "[encoded data removed]",
      "text/plain": [
       "<Figure size 936x216 with 1 Axes>"
      ]
     },
     "metadata": {
      "needs_background": "light"
     },
     "output_type": "display_data"
    },
    {
     "name": "stdout",
     "output_type": "stream",
     "text": [
      "Solve  executes 20.823 s\n",
      "SolveForAlternative  executes 20.823 s\n",
      "Ys: [(0, 0, 972), (0, 1, 763), (0, 1, 907), (0, 4, 972), (1, 0, 763), (1, 0, 778), (1, 0, 907), (1, 2, 909), (1, 2, 913), (1, 3, 909)]\n",
      "Xs: [(0, 763), (0, 907), (1, 909), (1, 972), (2, 778), (2, 913), (3, 763), (3, 907), (4, 909), (4, 972)]\n",
      "----------------------------------------------------------------------------------------------------\n",
      "Solution9 :\n"
     ]
    },
    {
     "data": {
      "image/png": "[encoded data removed]",
      "text/plain": [
       "<Figure size 936x216 with 1 Axes>"
      ]
     },
     "metadata": {
      "needs_background": "light"
     },
     "output_type": "display_data"
    },
    {
     "data": {
      "image/png": "[encoded data removed]",
      "text/plain": [
       "<Figure size 936x216 with 1 Axes>"
      ]
     },
     "metadata": {
      "needs_background": "light"
     },
     "output_type": "display_data"
    },
    {
     "name": "stdout",
     "output_type": "stream",
     "text": [
      "Solve  executes 20.25 s\n",
      "SolveForAlternative  executes 20.25 s\n",
      "Ys: [(0, 0, 763), (0, 0, 972), (0, 1, 763), (0, 1, 907), (0, 4, 972), (1, 0, 778), (1, 0, 907), (1, 0, 909), (1, 2, 909), (1, 2, 913)]\n",
      "Xs: [(0, 909), (0, 972), (1, 763), (1, 907), (2, 763), (2, 907), (3, 778), (3, 913), (4, 909), (4, 972)]\n",
      "Solution repeated.\n"
     ]
    }
   ],
   "source": [
    "print(\"Solution1:\")\n",
    "c = modelClass(data_param)\n",
    "c.Solve()\n",
    "print(\"Ys:\", c.ys)\n",
    "print(\"Xs:\", c.xs)\n",
    "s = 2\n",
    "prexs = []\n",
    "repeated = False\n",
    "while c.xs and s <= 50 and not repeated:\n",
    "    prexs.append(c.xs)\n",
    "    print('-'*100)\n",
    "    print(\"Solution\"+str(s),':')\n",
    "    c.SolveForAlternative()\n",
    "    print(\"Ys:\", c.ys)\n",
    "    print(\"Xs:\", c.xs)\n",
    "    s += 1\n",
    "    \n",
    "    # check for repeated solution\n",
    "    for prex in prexs:        \n",
    "        if c.xs == prex:\n",
    "            repeated = True\n",
    "            break\n",
    "\n",
    "if c.xs and not repeated:\n",
    "    print(\"There are more than\",s-1,\"alternatives. \")\n",
    "elif repeated:\n",
    "    print(\"Solution repeated.\")"
   ]
  },
  {
   "cell_type": "code",
   "execution_count": 260,
   "metadata": {},
   "outputs": [
    {
     "data": {
      "text/plain": [
       "array(['GALLO PINTO (COSTA RICAN RICE AND BEANS)'], dtype=object)"
      ]
     },
     "execution_count": 260,
     "metadata": {},
     "output_type": "execute_result"
    }
   ],
   "source": [
    "data[data.title == recipes[c.xs[0][1]]].title.values"
   ]
  },
  {
   "cell_type": "code",
   "execution_count": 266,
   "metadata": {},
   "outputs": [],
   "source": [
    "result = pd.DataFrame(columns = ['url','title'])\n",
    "for x in c.xs:\n",
    "    result = result.append({'url': data[data.title == recipes[x[1]]].page_url.values[0],\n",
    "                   'title':data[data.title == recipes[x[1]]].title.values[0]}, ignore_index=True)\n",
    "result.index = c.xs\n",
    "result.to_csv('result.csv')"
   ]
  },
  {
   "cell_type": "code",
   "execution_count": null,
   "metadata": {},
   "outputs": [],
   "source": []
  }
 ],
 "metadata": {
  "kernelspec": {
   "display_name": "Python 3",
   "language": "python",
   "name": "python3"
  },
  "language_info": {
   "codemirror_mode": {
    "name": "ipython",
    "version": 3
   },
   "file_extension": ".py",
   "mimetype": "text/x-python",
   "name": "python",
   "nbconvert_exporter": "python",
   "pygments_lexer": "ipython3",
   "version": "3.7.4"
  }
 },
 "nbformat": 4,
 "nbformat_minor": 2
}
